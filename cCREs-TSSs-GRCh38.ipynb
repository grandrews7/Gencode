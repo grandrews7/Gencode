{
 "cells": [
  {
   "cell_type": "code",
   "execution_count": 31,
   "id": "b0c8e6e6-9ea4-4787-9c0e-109534437db7",
   "metadata": {
    "execution": {
     "iopub.execute_input": "2024-07-25T14:46:09.119500Z",
     "iopub.status.busy": "2024-07-25T14:46:09.119104Z",
     "iopub.status.idle": "2024-07-25T14:46:09.145151Z",
     "shell.execute_reply": "2024-07-25T14:46:09.135401Z",
     "shell.execute_reply.started": "2024-07-25T14:46:09.119459Z"
    }
   },
   "outputs": [
    {
     "name": "stdout",
     "output_type": "stream",
     "text": [
      "The history saving thread hit an unexpected error (OperationalError('attempt to write a readonly database')).History will not be written to the database.\n"
     ]
    }
   ],
   "source": [
    "import pandas as pd\n",
    "import tqdm\n",
    "import bioframe as bf\n",
    "from collections import Counter\n",
    "from multiprocessing import Pool\n",
    "import numpy as np"
   ]
  },
  {
   "cell_type": "code",
   "execution_count": 32,
   "id": "73fb8ffb-1013-4036-a7f9-9192be9ef979",
   "metadata": {
    "execution": {
     "iopub.execute_input": "2024-07-25T14:46:09.149188Z",
     "iopub.status.busy": "2024-07-25T14:46:09.148113Z",
     "iopub.status.idle": "2024-07-25T14:46:20.300076Z",
     "shell.execute_reply": "2024-07-25T14:46:20.298959Z",
     "shell.execute_reply.started": "2024-07-25T14:46:09.149115Z"
    }
   },
   "outputs": [],
   "source": [
    "df = pd.read_csv(\"gencode.v40.basic.annotation.gtf.gz\",\n",
    "                 sep=\"\\t\", skiprows=5, header=None, \n",
    "                 names=[\"chrom\", \"source\", \"type\", \"start\", \"end\", \"strand\", \"data\"], \n",
    "                 usecols=[0,1,2,3,4,6,8],\n",
    "                 low_memory=False)"
   ]
  },
  {
   "cell_type": "code",
   "execution_count": 33,
   "id": "c9f633a9-0e19-4167-8d3c-9256db13b596",
   "metadata": {
    "execution": {
     "iopub.execute_input": "2024-07-25T14:46:20.301710Z",
     "iopub.status.busy": "2024-07-25T14:46:20.301486Z",
     "iopub.status.idle": "2024-07-25T14:46:20.371253Z",
     "shell.execute_reply": "2024-07-25T14:46:20.370086Z",
     "shell.execute_reply.started": "2024-07-25T14:46:20.301689Z"
    }
   },
   "outputs": [
    {
     "data": {
      "text/html": [
       "<div>\n",
       "<style scoped>\n",
       "    .dataframe tbody tr th:only-of-type {\n",
       "        vertical-align: middle;\n",
       "    }\n",
       "\n",
       "    .dataframe tbody tr th {\n",
       "        vertical-align: top;\n",
       "    }\n",
       "\n",
       "    .dataframe thead th {\n",
       "        text-align: right;\n",
       "    }\n",
       "</style>\n",
       "<table border=\"1\" class=\"dataframe\">\n",
       "  <thead>\n",
       "    <tr style=\"text-align: right;\">\n",
       "      <th></th>\n",
       "      <th>chrom</th>\n",
       "      <th>source</th>\n",
       "      <th>type</th>\n",
       "      <th>start</th>\n",
       "      <th>end</th>\n",
       "      <th>strand</th>\n",
       "      <th>data</th>\n",
       "    </tr>\n",
       "  </thead>\n",
       "  <tbody>\n",
       "    <tr>\n",
       "      <th>0</th>\n",
       "      <td>chr1</td>\n",
       "      <td>HAVANA</td>\n",
       "      <td>gene</td>\n",
       "      <td>11869</td>\n",
       "      <td>14409</td>\n",
       "      <td>+</td>\n",
       "      <td>gene_id \"ENSG00000223972.5\"; gene_type \"transc...</td>\n",
       "    </tr>\n",
       "    <tr>\n",
       "      <th>1</th>\n",
       "      <td>chr1</td>\n",
       "      <td>HAVANA</td>\n",
       "      <td>transcript</td>\n",
       "      <td>11869</td>\n",
       "      <td>14409</td>\n",
       "      <td>+</td>\n",
       "      <td>gene_id \"ENSG00000223972.5\"; transcript_id \"EN...</td>\n",
       "    </tr>\n",
       "    <tr>\n",
       "      <th>2</th>\n",
       "      <td>chr1</td>\n",
       "      <td>HAVANA</td>\n",
       "      <td>exon</td>\n",
       "      <td>11869</td>\n",
       "      <td>12227</td>\n",
       "      <td>+</td>\n",
       "      <td>gene_id \"ENSG00000223972.5\"; transcript_id \"EN...</td>\n",
       "    </tr>\n",
       "    <tr>\n",
       "      <th>3</th>\n",
       "      <td>chr1</td>\n",
       "      <td>HAVANA</td>\n",
       "      <td>exon</td>\n",
       "      <td>12613</td>\n",
       "      <td>12721</td>\n",
       "      <td>+</td>\n",
       "      <td>gene_id \"ENSG00000223972.5\"; transcript_id \"EN...</td>\n",
       "    </tr>\n",
       "    <tr>\n",
       "      <th>4</th>\n",
       "      <td>chr1</td>\n",
       "      <td>HAVANA</td>\n",
       "      <td>exon</td>\n",
       "      <td>13221</td>\n",
       "      <td>14409</td>\n",
       "      <td>+</td>\n",
       "      <td>gene_id \"ENSG00000223972.5\"; transcript_id \"EN...</td>\n",
       "    </tr>\n",
       "  </tbody>\n",
       "</table>\n",
       "</div>"
      ],
      "text/plain": [
       "  chrom  source        type  start    end strand  \\\n",
       "0  chr1  HAVANA        gene  11869  14409      +   \n",
       "1  chr1  HAVANA  transcript  11869  14409      +   \n",
       "2  chr1  HAVANA        exon  11869  12227      +   \n",
       "3  chr1  HAVANA        exon  12613  12721      +   \n",
       "4  chr1  HAVANA        exon  13221  14409      +   \n",
       "\n",
       "                                                data  \n",
       "0  gene_id \"ENSG00000223972.5\"; gene_type \"transc...  \n",
       "1  gene_id \"ENSG00000223972.5\"; transcript_id \"EN...  \n",
       "2  gene_id \"ENSG00000223972.5\"; transcript_id \"EN...  \n",
       "3  gene_id \"ENSG00000223972.5\"; transcript_id \"EN...  \n",
       "4  gene_id \"ENSG00000223972.5\"; transcript_id \"EN...  "
      ]
     },
     "execution_count": 33,
     "metadata": {},
     "output_type": "execute_result"
    }
   ],
   "source": [
    "df.head()"
   ]
  },
  {
   "cell_type": "code",
   "execution_count": 34,
   "id": "67e6b16f-447c-4126-a664-7db4c58c0832",
   "metadata": {
    "execution": {
     "iopub.execute_input": "2024-07-25T14:46:20.375324Z",
     "iopub.status.busy": "2024-07-25T14:46:20.375030Z",
     "iopub.status.idle": "2024-07-25T14:46:20.547285Z",
     "shell.execute_reply": "2024-07-25T14:46:20.545962Z",
     "shell.execute_reply.started": "2024-07-25T14:46:20.375296Z"
    }
   },
   "outputs": [
    {
     "data": {
      "text/html": [
       "<div>\n",
       "<style scoped>\n",
       "    .dataframe tbody tr th:only-of-type {\n",
       "        vertical-align: middle;\n",
       "    }\n",
       "\n",
       "    .dataframe tbody tr th {\n",
       "        vertical-align: top;\n",
       "    }\n",
       "\n",
       "    .dataframe thead th {\n",
       "        text-align: right;\n",
       "    }\n",
       "</style>\n",
       "<table border=\"1\" class=\"dataframe\">\n",
       "  <thead>\n",
       "    <tr style=\"text-align: right;\">\n",
       "      <th></th>\n",
       "      <th>chrom</th>\n",
       "      <th>source</th>\n",
       "      <th>type</th>\n",
       "      <th>start</th>\n",
       "      <th>end</th>\n",
       "      <th>strand</th>\n",
       "      <th>data</th>\n",
       "    </tr>\n",
       "  </thead>\n",
       "  <tbody>\n",
       "    <tr>\n",
       "      <th>0</th>\n",
       "      <td>chr1</td>\n",
       "      <td>HAVANA</td>\n",
       "      <td>gene</td>\n",
       "      <td>11869</td>\n",
       "      <td>14409</td>\n",
       "      <td>+</td>\n",
       "      <td>gene_id \"ENSG00000223972.5\"; gene_type \"transc...</td>\n",
       "    </tr>\n",
       "    <tr>\n",
       "      <th>1</th>\n",
       "      <td>chr1</td>\n",
       "      <td>HAVANA</td>\n",
       "      <td>gene</td>\n",
       "      <td>14404</td>\n",
       "      <td>29570</td>\n",
       "      <td>-</td>\n",
       "      <td>gene_id \"ENSG00000227232.5\"; gene_type \"unproc...</td>\n",
       "    </tr>\n",
       "    <tr>\n",
       "      <th>2</th>\n",
       "      <td>chr1</td>\n",
       "      <td>ENSEMBL</td>\n",
       "      <td>gene</td>\n",
       "      <td>17369</td>\n",
       "      <td>17436</td>\n",
       "      <td>-</td>\n",
       "      <td>gene_id \"ENSG00000278267.1\"; gene_type \"miRNA\"...</td>\n",
       "    </tr>\n",
       "    <tr>\n",
       "      <th>3</th>\n",
       "      <td>chr1</td>\n",
       "      <td>HAVANA</td>\n",
       "      <td>gene</td>\n",
       "      <td>29554</td>\n",
       "      <td>31109</td>\n",
       "      <td>+</td>\n",
       "      <td>gene_id \"ENSG00000243485.5\"; gene_type \"lncRNA...</td>\n",
       "    </tr>\n",
       "    <tr>\n",
       "      <th>4</th>\n",
       "      <td>chr1</td>\n",
       "      <td>ENSEMBL</td>\n",
       "      <td>gene</td>\n",
       "      <td>30366</td>\n",
       "      <td>30503</td>\n",
       "      <td>+</td>\n",
       "      <td>gene_id \"ENSG00000284332.1\"; gene_type \"miRNA\"...</td>\n",
       "    </tr>\n",
       "  </tbody>\n",
       "</table>\n",
       "</div>"
      ],
      "text/plain": [
       "  chrom   source  type  start    end strand  \\\n",
       "0  chr1   HAVANA  gene  11869  14409      +   \n",
       "1  chr1   HAVANA  gene  14404  29570      -   \n",
       "2  chr1  ENSEMBL  gene  17369  17436      -   \n",
       "3  chr1   HAVANA  gene  29554  31109      +   \n",
       "4  chr1  ENSEMBL  gene  30366  30503      +   \n",
       "\n",
       "                                                data  \n",
       "0  gene_id \"ENSG00000223972.5\"; gene_type \"transc...  \n",
       "1  gene_id \"ENSG00000227232.5\"; gene_type \"unproc...  \n",
       "2  gene_id \"ENSG00000278267.1\"; gene_type \"miRNA\"...  \n",
       "3  gene_id \"ENSG00000243485.5\"; gene_type \"lncRNA...  \n",
       "4  gene_id \"ENSG00000284332.1\"; gene_type \"miRNA\"...  "
      ]
     },
     "execution_count": 34,
     "metadata": {},
     "output_type": "execute_result"
    }
   ],
   "source": [
    "genes_df = df[df[\"type\"] == \"gene\"].reset_index(drop=True)\n",
    "genes_df.head()"
   ]
  },
  {
   "cell_type": "code",
   "execution_count": 35,
   "id": "4af60319-797a-4e8b-b2ab-0e866f389420",
   "metadata": {
    "execution": {
     "iopub.execute_input": "2024-07-25T14:46:20.548468Z",
     "iopub.status.busy": "2024-07-25T14:46:20.548274Z",
     "iopub.status.idle": "2024-07-25T14:46:20.556682Z",
     "shell.execute_reply": "2024-07-25T14:46:20.555312Z",
     "shell.execute_reply.started": "2024-07-25T14:46:20.548450Z"
    }
   },
   "outputs": [
    {
     "data": {
      "text/plain": [
       "61544"
      ]
     },
     "execution_count": 35,
     "metadata": {},
     "output_type": "execute_result"
    }
   ],
   "source": [
    "genes_df.shape[0]"
   ]
  },
  {
   "cell_type": "code",
   "execution_count": 36,
   "id": "7eb25df0-1296-4b2c-b779-0b2a12e45d77",
   "metadata": {
    "execution": {
     "iopub.execute_input": "2024-07-25T14:46:21.622140Z",
     "iopub.status.busy": "2024-07-25T14:46:21.621946Z",
     "iopub.status.idle": "2024-07-25T14:46:24.339600Z",
     "shell.execute_reply": "2024-07-25T14:46:24.338632Z",
     "shell.execute_reply.started": "2024-07-25T14:46:21.622122Z"
    }
   },
   "outputs": [
    {
     "name": "stderr",
     "output_type": "stream",
     "text": [
      "100%|██████████████████████████████████████████████████████████████████████████████████████████████████████████████████████████████████████████████████████| 61544/61544 [00:02<00:00, 22883.15it/s]\n"
     ]
    }
   ],
   "source": [
    "gene_metadata = {}\n",
    "for i in tqdm.trange(genes_df.shape[0]):\n",
    "    row = genes_df.iloc[i]\n",
    "    row_metadata = row.data\n",
    "    row_metadata = row_metadata.replace(';', '').replace('\"', '').split()\n",
    "    metadata = {}\n",
    "    for i in range(len(row_metadata) // 2):\n",
    "        metadata[row_metadata[2*i]] = row_metadata[2*i + 1]\n",
    "    gene_id = metadata[\"gene_id\"]\n",
    "    gene_type = metadata[\"gene_type\"]\n",
    "    gene_name = metadata[\"gene_name\"]\n",
    "    gene_metadata[gene_id] = {\"gene_name\" : gene_name, \"gene_type\" : gene_type}"
   ]
  },
  {
   "cell_type": "code",
   "execution_count": 37,
   "id": "7e25a86b-3e18-492b-832b-7dcae76b5c03",
   "metadata": {
    "execution": {
     "iopub.execute_input": "2024-07-25T14:46:24.344417Z",
     "iopub.status.busy": "2024-07-25T14:46:24.343899Z",
     "iopub.status.idle": "2024-07-25T14:46:30.776312Z",
     "shell.execute_reply": "2024-07-25T14:46:30.774224Z",
     "shell.execute_reply.started": "2024-07-25T14:46:24.344392Z"
    }
   },
   "outputs": [],
   "source": [
    "transcripts_df = df[df[\"type\"] == \"transcript\"].reset_index(drop=True)\n",
    "transcripts_df[\"gene_id\"] = transcripts_df.data.map(lambda x: x.split(\";\")[0].split()[1].replace('\"',''))"
   ]
  },
  {
   "cell_type": "code",
   "execution_count": 38,
   "id": "a06aba00-3817-402a-8ab5-b9e7281e35ae",
   "metadata": {
    "execution": {
     "iopub.execute_input": "2024-07-25T14:46:30.779610Z",
     "iopub.status.busy": "2024-07-25T14:46:30.778896Z",
     "iopub.status.idle": "2024-07-25T14:46:30.789730Z",
     "shell.execute_reply": "2024-07-25T14:46:30.788773Z",
     "shell.execute_reply.started": "2024-07-25T14:46:30.779535Z"
    }
   },
   "outputs": [
    {
     "data": {
      "text/plain": [
       "(114816, 8)"
      ]
     },
     "execution_count": 38,
     "metadata": {},
     "output_type": "execute_result"
    }
   ],
   "source": [
    "transcripts_df.shape"
   ]
  },
  {
   "cell_type": "code",
   "execution_count": 39,
   "id": "7893ee1b-c4ce-46f4-a6f3-c55ebaa6d391",
   "metadata": {
    "execution": {
     "iopub.execute_input": "2024-07-25T14:46:30.791459Z",
     "iopub.status.busy": "2024-07-25T14:46:30.791240Z",
     "iopub.status.idle": "2024-07-25T14:46:30.802667Z",
     "shell.execute_reply": "2024-07-25T14:46:30.801732Z",
     "shell.execute_reply.started": "2024-07-25T14:46:30.791437Z"
    }
   },
   "outputs": [
    {
     "data": {
      "text/html": [
       "<div>\n",
       "<style scoped>\n",
       "    .dataframe tbody tr th:only-of-type {\n",
       "        vertical-align: middle;\n",
       "    }\n",
       "\n",
       "    .dataframe tbody tr th {\n",
       "        vertical-align: top;\n",
       "    }\n",
       "\n",
       "    .dataframe thead th {\n",
       "        text-align: right;\n",
       "    }\n",
       "</style>\n",
       "<table border=\"1\" class=\"dataframe\">\n",
       "  <thead>\n",
       "    <tr style=\"text-align: right;\">\n",
       "      <th></th>\n",
       "      <th>chrom</th>\n",
       "      <th>source</th>\n",
       "      <th>type</th>\n",
       "      <th>start</th>\n",
       "      <th>end</th>\n",
       "      <th>strand</th>\n",
       "      <th>data</th>\n",
       "      <th>gene_id</th>\n",
       "    </tr>\n",
       "  </thead>\n",
       "  <tbody>\n",
       "    <tr>\n",
       "      <th>0</th>\n",
       "      <td>chr1</td>\n",
       "      <td>HAVANA</td>\n",
       "      <td>transcript</td>\n",
       "      <td>11869</td>\n",
       "      <td>14409</td>\n",
       "      <td>+</td>\n",
       "      <td>gene_id \"ENSG00000223972.5\"; transcript_id \"EN...</td>\n",
       "      <td>ENSG00000223972.5</td>\n",
       "    </tr>\n",
       "    <tr>\n",
       "      <th>1</th>\n",
       "      <td>chr1</td>\n",
       "      <td>HAVANA</td>\n",
       "      <td>transcript</td>\n",
       "      <td>12010</td>\n",
       "      <td>13670</td>\n",
       "      <td>+</td>\n",
       "      <td>gene_id \"ENSG00000223972.5\"; transcript_id \"EN...</td>\n",
       "      <td>ENSG00000223972.5</td>\n",
       "    </tr>\n",
       "    <tr>\n",
       "      <th>2</th>\n",
       "      <td>chr1</td>\n",
       "      <td>HAVANA</td>\n",
       "      <td>transcript</td>\n",
       "      <td>14404</td>\n",
       "      <td>29570</td>\n",
       "      <td>-</td>\n",
       "      <td>gene_id \"ENSG00000227232.5\"; transcript_id \"EN...</td>\n",
       "      <td>ENSG00000227232.5</td>\n",
       "    </tr>\n",
       "    <tr>\n",
       "      <th>3</th>\n",
       "      <td>chr1</td>\n",
       "      <td>ENSEMBL</td>\n",
       "      <td>transcript</td>\n",
       "      <td>17369</td>\n",
       "      <td>17436</td>\n",
       "      <td>-</td>\n",
       "      <td>gene_id \"ENSG00000278267.1\"; transcript_id \"EN...</td>\n",
       "      <td>ENSG00000278267.1</td>\n",
       "    </tr>\n",
       "    <tr>\n",
       "      <th>4</th>\n",
       "      <td>chr1</td>\n",
       "      <td>HAVANA</td>\n",
       "      <td>transcript</td>\n",
       "      <td>29554</td>\n",
       "      <td>31097</td>\n",
       "      <td>+</td>\n",
       "      <td>gene_id \"ENSG00000243485.5\"; transcript_id \"EN...</td>\n",
       "      <td>ENSG00000243485.5</td>\n",
       "    </tr>\n",
       "  </tbody>\n",
       "</table>\n",
       "</div>"
      ],
      "text/plain": [
       "  chrom   source        type  start    end strand  \\\n",
       "0  chr1   HAVANA  transcript  11869  14409      +   \n",
       "1  chr1   HAVANA  transcript  12010  13670      +   \n",
       "2  chr1   HAVANA  transcript  14404  29570      -   \n",
       "3  chr1  ENSEMBL  transcript  17369  17436      -   \n",
       "4  chr1   HAVANA  transcript  29554  31097      +   \n",
       "\n",
       "                                                data            gene_id  \n",
       "0  gene_id \"ENSG00000223972.5\"; transcript_id \"EN...  ENSG00000223972.5  \n",
       "1  gene_id \"ENSG00000223972.5\"; transcript_id \"EN...  ENSG00000223972.5  \n",
       "2  gene_id \"ENSG00000227232.5\"; transcript_id \"EN...  ENSG00000227232.5  \n",
       "3  gene_id \"ENSG00000278267.1\"; transcript_id \"EN...  ENSG00000278267.1  \n",
       "4  gene_id \"ENSG00000243485.5\"; transcript_id \"EN...  ENSG00000243485.5  "
      ]
     },
     "execution_count": 39,
     "metadata": {},
     "output_type": "execute_result"
    }
   ],
   "source": [
    "transcripts_df.head()"
   ]
  },
  {
   "cell_type": "code",
   "execution_count": 40,
   "id": "40253c20-d622-4f31-9527-1d1c3c2802ef",
   "metadata": {
    "execution": {
     "iopub.execute_input": "2024-07-25T14:46:30.804080Z",
     "iopub.status.busy": "2024-07-25T14:46:30.803852Z",
     "iopub.status.idle": "2024-07-25T14:46:36.460299Z",
     "shell.execute_reply": "2024-07-25T14:46:36.458734Z",
     "shell.execute_reply.started": "2024-07-25T14:46:30.804058Z"
    }
   },
   "outputs": [
    {
     "name": "stderr",
     "output_type": "stream",
     "text": [
      "100%|████████████████████████████████████████████████████████████████████████████████████████████████████████████████████████████████████████████████████| 114816/114816 [00:05<00:00, 20407.86it/s]\n"
     ]
    }
   ],
   "source": [
    "transcript_metadata = {}\n",
    "for i in tqdm.trange(transcripts_df.shape[0]):\n",
    "    row = transcripts_df.iloc[i]\n",
    "    row_metadata = row.data\n",
    "    row_metadata = row_metadata.replace(';', '').replace('\"', '').split()\n",
    "    metadata = {}\n",
    "    for i in range(len(row_metadata) // 2):\n",
    "        metadata[row_metadata[2*i]] = row_metadata[2*i + 1]\n",
    "    gene_id = metadata[\"gene_id\"]\n",
    "    transcript_id = metadata[\"transcript_id\"]\n",
    "    gene_name = metadata[\"gene_name\"]\n",
    "    gene_type = metadata[\"gene_type\"]\n",
    "    transcript_metadata[transcript_id] = {\"gene_id\" : gene_id, \n",
    "                                          \"gene_name\" : gene_name,\n",
    "                                          \"gene_type\" : gene_type}"
   ]
  },
  {
   "cell_type": "code",
   "execution_count": 41,
   "id": "b17df4bd-21db-418a-9db6-d07ad1c62a63",
   "metadata": {
    "execution": {
     "iopub.execute_input": "2024-07-25T14:46:36.464630Z",
     "iopub.status.busy": "2024-07-25T14:46:36.464250Z",
     "iopub.status.idle": "2024-07-25T14:46:36.476279Z",
     "shell.execute_reply": "2024-07-25T14:46:36.475390Z",
     "shell.execute_reply.started": "2024-07-25T14:46:36.464593Z"
    }
   },
   "outputs": [
    {
     "data": {
      "text/html": [
       "<div>\n",
       "<style scoped>\n",
       "    .dataframe tbody tr th:only-of-type {\n",
       "        vertical-align: middle;\n",
       "    }\n",
       "\n",
       "    .dataframe tbody tr th {\n",
       "        vertical-align: top;\n",
       "    }\n",
       "\n",
       "    .dataframe thead th {\n",
       "        text-align: right;\n",
       "    }\n",
       "</style>\n",
       "<table border=\"1\" class=\"dataframe\">\n",
       "  <thead>\n",
       "    <tr style=\"text-align: right;\">\n",
       "      <th></th>\n",
       "      <th>chrom</th>\n",
       "      <th>source</th>\n",
       "      <th>type</th>\n",
       "      <th>start</th>\n",
       "      <th>end</th>\n",
       "      <th>strand</th>\n",
       "      <th>data</th>\n",
       "      <th>gene_id</th>\n",
       "    </tr>\n",
       "  </thead>\n",
       "  <tbody>\n",
       "    <tr>\n",
       "      <th>0</th>\n",
       "      <td>chr1</td>\n",
       "      <td>HAVANA</td>\n",
       "      <td>transcript</td>\n",
       "      <td>11869</td>\n",
       "      <td>14409</td>\n",
       "      <td>+</td>\n",
       "      <td>gene_id \"ENSG00000223972.5\"; transcript_id \"EN...</td>\n",
       "      <td>ENSG00000223972.5</td>\n",
       "    </tr>\n",
       "    <tr>\n",
       "      <th>1</th>\n",
       "      <td>chr1</td>\n",
       "      <td>HAVANA</td>\n",
       "      <td>transcript</td>\n",
       "      <td>12010</td>\n",
       "      <td>13670</td>\n",
       "      <td>+</td>\n",
       "      <td>gene_id \"ENSG00000223972.5\"; transcript_id \"EN...</td>\n",
       "      <td>ENSG00000223972.5</td>\n",
       "    </tr>\n",
       "    <tr>\n",
       "      <th>2</th>\n",
       "      <td>chr1</td>\n",
       "      <td>HAVANA</td>\n",
       "      <td>transcript</td>\n",
       "      <td>14404</td>\n",
       "      <td>29570</td>\n",
       "      <td>-</td>\n",
       "      <td>gene_id \"ENSG00000227232.5\"; transcript_id \"EN...</td>\n",
       "      <td>ENSG00000227232.5</td>\n",
       "    </tr>\n",
       "    <tr>\n",
       "      <th>3</th>\n",
       "      <td>chr1</td>\n",
       "      <td>ENSEMBL</td>\n",
       "      <td>transcript</td>\n",
       "      <td>17369</td>\n",
       "      <td>17436</td>\n",
       "      <td>-</td>\n",
       "      <td>gene_id \"ENSG00000278267.1\"; transcript_id \"EN...</td>\n",
       "      <td>ENSG00000278267.1</td>\n",
       "    </tr>\n",
       "    <tr>\n",
       "      <th>4</th>\n",
       "      <td>chr1</td>\n",
       "      <td>HAVANA</td>\n",
       "      <td>transcript</td>\n",
       "      <td>29554</td>\n",
       "      <td>31097</td>\n",
       "      <td>+</td>\n",
       "      <td>gene_id \"ENSG00000243485.5\"; transcript_id \"EN...</td>\n",
       "      <td>ENSG00000243485.5</td>\n",
       "    </tr>\n",
       "  </tbody>\n",
       "</table>\n",
       "</div>"
      ],
      "text/plain": [
       "  chrom   source        type  start    end strand  \\\n",
       "0  chr1   HAVANA  transcript  11869  14409      +   \n",
       "1  chr1   HAVANA  transcript  12010  13670      +   \n",
       "2  chr1   HAVANA  transcript  14404  29570      -   \n",
       "3  chr1  ENSEMBL  transcript  17369  17436      -   \n",
       "4  chr1   HAVANA  transcript  29554  31097      +   \n",
       "\n",
       "                                                data            gene_id  \n",
       "0  gene_id \"ENSG00000223972.5\"; transcript_id \"EN...  ENSG00000223972.5  \n",
       "1  gene_id \"ENSG00000223972.5\"; transcript_id \"EN...  ENSG00000223972.5  \n",
       "2  gene_id \"ENSG00000227232.5\"; transcript_id \"EN...  ENSG00000227232.5  \n",
       "3  gene_id \"ENSG00000278267.1\"; transcript_id \"EN...  ENSG00000278267.1  \n",
       "4  gene_id \"ENSG00000243485.5\"; transcript_id \"EN...  ENSG00000243485.5  "
      ]
     },
     "execution_count": 41,
     "metadata": {},
     "output_type": "execute_result"
    }
   ],
   "source": [
    "transcripts_df.head()"
   ]
  },
  {
   "cell_type": "code",
   "execution_count": 42,
   "id": "9ce81928-39eb-4852-8405-0a77495838bf",
   "metadata": {
    "execution": {
     "iopub.execute_input": "2024-07-25T14:47:18.500467Z",
     "iopub.status.busy": "2024-07-25T14:47:18.499668Z",
     "iopub.status.idle": "2024-07-25T14:47:24.632478Z",
     "shell.execute_reply": "2024-07-25T14:47:24.630882Z",
     "shell.execute_reply.started": "2024-07-25T14:47:18.500396Z"
    }
   },
   "outputs": [],
   "source": [
    "def get_TSS(start, end, strand):\n",
    "    if strand == \"+\":\n",
    "        return(start, start)\n",
    "    else:\n",
    "        return(end, end)\n",
    "        \n",
    "transcripts_df[[\"TSS_start\", \"TSS_end\"]] = transcripts_df.apply(lambda x: get_TSS(x[\"start\"], x[\"end\"], x[\"strand\"]), axis=1, result_type=\"expand\")"
   ]
  },
  {
   "cell_type": "code",
   "execution_count": 43,
   "id": "0a0d9e0a-6257-4530-b573-0eec2b1f8f53",
   "metadata": {
    "execution": {
     "iopub.execute_input": "2024-07-25T14:47:25.205532Z",
     "iopub.status.busy": "2024-07-25T14:47:25.205346Z",
     "iopub.status.idle": "2024-07-25T14:47:25.215422Z",
     "shell.execute_reply": "2024-07-25T14:47:25.214544Z",
     "shell.execute_reply.started": "2024-07-25T14:47:25.205514Z"
    }
   },
   "outputs": [
    {
     "data": {
      "text/html": [
       "<div>\n",
       "<style scoped>\n",
       "    .dataframe tbody tr th:only-of-type {\n",
       "        vertical-align: middle;\n",
       "    }\n",
       "\n",
       "    .dataframe tbody tr th {\n",
       "        vertical-align: top;\n",
       "    }\n",
       "\n",
       "    .dataframe thead th {\n",
       "        text-align: right;\n",
       "    }\n",
       "</style>\n",
       "<table border=\"1\" class=\"dataframe\">\n",
       "  <thead>\n",
       "    <tr style=\"text-align: right;\">\n",
       "      <th></th>\n",
       "      <th>chrom</th>\n",
       "      <th>source</th>\n",
       "      <th>type</th>\n",
       "      <th>start</th>\n",
       "      <th>end</th>\n",
       "      <th>strand</th>\n",
       "      <th>data</th>\n",
       "      <th>gene_id</th>\n",
       "      <th>TSS_start</th>\n",
       "      <th>TSS_end</th>\n",
       "    </tr>\n",
       "  </thead>\n",
       "  <tbody>\n",
       "    <tr>\n",
       "      <th>0</th>\n",
       "      <td>chr1</td>\n",
       "      <td>HAVANA</td>\n",
       "      <td>transcript</td>\n",
       "      <td>11869</td>\n",
       "      <td>14409</td>\n",
       "      <td>+</td>\n",
       "      <td>gene_id \"ENSG00000223972.5\"; transcript_id \"EN...</td>\n",
       "      <td>ENSG00000223972.5</td>\n",
       "      <td>11869</td>\n",
       "      <td>11869</td>\n",
       "    </tr>\n",
       "    <tr>\n",
       "      <th>1</th>\n",
       "      <td>chr1</td>\n",
       "      <td>HAVANA</td>\n",
       "      <td>transcript</td>\n",
       "      <td>12010</td>\n",
       "      <td>13670</td>\n",
       "      <td>+</td>\n",
       "      <td>gene_id \"ENSG00000223972.5\"; transcript_id \"EN...</td>\n",
       "      <td>ENSG00000223972.5</td>\n",
       "      <td>12010</td>\n",
       "      <td>12010</td>\n",
       "    </tr>\n",
       "    <tr>\n",
       "      <th>2</th>\n",
       "      <td>chr1</td>\n",
       "      <td>HAVANA</td>\n",
       "      <td>transcript</td>\n",
       "      <td>14404</td>\n",
       "      <td>29570</td>\n",
       "      <td>-</td>\n",
       "      <td>gene_id \"ENSG00000227232.5\"; transcript_id \"EN...</td>\n",
       "      <td>ENSG00000227232.5</td>\n",
       "      <td>29570</td>\n",
       "      <td>29570</td>\n",
       "    </tr>\n",
       "    <tr>\n",
       "      <th>3</th>\n",
       "      <td>chr1</td>\n",
       "      <td>ENSEMBL</td>\n",
       "      <td>transcript</td>\n",
       "      <td>17369</td>\n",
       "      <td>17436</td>\n",
       "      <td>-</td>\n",
       "      <td>gene_id \"ENSG00000278267.1\"; transcript_id \"EN...</td>\n",
       "      <td>ENSG00000278267.1</td>\n",
       "      <td>17436</td>\n",
       "      <td>17436</td>\n",
       "    </tr>\n",
       "    <tr>\n",
       "      <th>4</th>\n",
       "      <td>chr1</td>\n",
       "      <td>HAVANA</td>\n",
       "      <td>transcript</td>\n",
       "      <td>29554</td>\n",
       "      <td>31097</td>\n",
       "      <td>+</td>\n",
       "      <td>gene_id \"ENSG00000243485.5\"; transcript_id \"EN...</td>\n",
       "      <td>ENSG00000243485.5</td>\n",
       "      <td>29554</td>\n",
       "      <td>29554</td>\n",
       "    </tr>\n",
       "  </tbody>\n",
       "</table>\n",
       "</div>"
      ],
      "text/plain": [
       "  chrom   source        type  start    end strand  \\\n",
       "0  chr1   HAVANA  transcript  11869  14409      +   \n",
       "1  chr1   HAVANA  transcript  12010  13670      +   \n",
       "2  chr1   HAVANA  transcript  14404  29570      -   \n",
       "3  chr1  ENSEMBL  transcript  17369  17436      -   \n",
       "4  chr1   HAVANA  transcript  29554  31097      +   \n",
       "\n",
       "                                                data            gene_id  \\\n",
       "0  gene_id \"ENSG00000223972.5\"; transcript_id \"EN...  ENSG00000223972.5   \n",
       "1  gene_id \"ENSG00000223972.5\"; transcript_id \"EN...  ENSG00000223972.5   \n",
       "2  gene_id \"ENSG00000227232.5\"; transcript_id \"EN...  ENSG00000227232.5   \n",
       "3  gene_id \"ENSG00000278267.1\"; transcript_id \"EN...  ENSG00000278267.1   \n",
       "4  gene_id \"ENSG00000243485.5\"; transcript_id \"EN...  ENSG00000243485.5   \n",
       "\n",
       "   TSS_start  TSS_end  \n",
       "0      11869    11869  \n",
       "1      12010    12010  \n",
       "2      29570    29570  \n",
       "3      17436    17436  \n",
       "4      29554    29554  "
      ]
     },
     "execution_count": 43,
     "metadata": {},
     "output_type": "execute_result"
    }
   ],
   "source": [
    "transcripts_df.head()"
   ]
  },
  {
   "cell_type": "code",
   "execution_count": 44,
   "id": "a073df06-e3da-4428-9f67-4bc199e17433",
   "metadata": {
    "execution": {
     "iopub.execute_input": "2024-07-25T14:47:53.157971Z",
     "iopub.status.busy": "2024-07-25T14:47:53.157146Z",
     "iopub.status.idle": "2024-07-25T14:47:53.194987Z",
     "shell.execute_reply": "2024-07-25T14:47:53.193967Z",
     "shell.execute_reply.started": "2024-07-25T14:47:53.157899Z"
    }
   },
   "outputs": [],
   "source": [
    "transcripts_df = transcripts_df.rename(columns = {\"start\" : \"transcript_start\", \n",
    "                                 \"end\" : \"transcript_end\", \n",
    "                                 \"TSS_start\" : \"start\",\n",
    "                                 \"TSS_end\" : \"end\"})"
   ]
  },
  {
   "cell_type": "code",
   "execution_count": 45,
   "id": "54bf4e36-b9e3-454c-b00c-1889c170c7fa",
   "metadata": {
    "execution": {
     "iopub.execute_input": "2024-07-25T14:47:53.792129Z",
     "iopub.status.busy": "2024-07-25T14:47:53.791936Z",
     "iopub.status.idle": "2024-07-25T14:47:53.802083Z",
     "shell.execute_reply": "2024-07-25T14:47:53.801193Z",
     "shell.execute_reply.started": "2024-07-25T14:47:53.792111Z"
    }
   },
   "outputs": [
    {
     "data": {
      "text/html": [
       "<div>\n",
       "<style scoped>\n",
       "    .dataframe tbody tr th:only-of-type {\n",
       "        vertical-align: middle;\n",
       "    }\n",
       "\n",
       "    .dataframe tbody tr th {\n",
       "        vertical-align: top;\n",
       "    }\n",
       "\n",
       "    .dataframe thead th {\n",
       "        text-align: right;\n",
       "    }\n",
       "</style>\n",
       "<table border=\"1\" class=\"dataframe\">\n",
       "  <thead>\n",
       "    <tr style=\"text-align: right;\">\n",
       "      <th></th>\n",
       "      <th>chrom</th>\n",
       "      <th>source</th>\n",
       "      <th>type</th>\n",
       "      <th>transcript_start</th>\n",
       "      <th>transcript_end</th>\n",
       "      <th>strand</th>\n",
       "      <th>data</th>\n",
       "      <th>gene_id</th>\n",
       "      <th>start</th>\n",
       "      <th>end</th>\n",
       "    </tr>\n",
       "  </thead>\n",
       "  <tbody>\n",
       "    <tr>\n",
       "      <th>0</th>\n",
       "      <td>chr1</td>\n",
       "      <td>HAVANA</td>\n",
       "      <td>transcript</td>\n",
       "      <td>11869</td>\n",
       "      <td>14409</td>\n",
       "      <td>+</td>\n",
       "      <td>gene_id \"ENSG00000223972.5\"; transcript_id \"EN...</td>\n",
       "      <td>ENSG00000223972.5</td>\n",
       "      <td>11869</td>\n",
       "      <td>11869</td>\n",
       "    </tr>\n",
       "    <tr>\n",
       "      <th>1</th>\n",
       "      <td>chr1</td>\n",
       "      <td>HAVANA</td>\n",
       "      <td>transcript</td>\n",
       "      <td>12010</td>\n",
       "      <td>13670</td>\n",
       "      <td>+</td>\n",
       "      <td>gene_id \"ENSG00000223972.5\"; transcript_id \"EN...</td>\n",
       "      <td>ENSG00000223972.5</td>\n",
       "      <td>12010</td>\n",
       "      <td>12010</td>\n",
       "    </tr>\n",
       "    <tr>\n",
       "      <th>2</th>\n",
       "      <td>chr1</td>\n",
       "      <td>HAVANA</td>\n",
       "      <td>transcript</td>\n",
       "      <td>14404</td>\n",
       "      <td>29570</td>\n",
       "      <td>-</td>\n",
       "      <td>gene_id \"ENSG00000227232.5\"; transcript_id \"EN...</td>\n",
       "      <td>ENSG00000227232.5</td>\n",
       "      <td>29570</td>\n",
       "      <td>29570</td>\n",
       "    </tr>\n",
       "    <tr>\n",
       "      <th>3</th>\n",
       "      <td>chr1</td>\n",
       "      <td>ENSEMBL</td>\n",
       "      <td>transcript</td>\n",
       "      <td>17369</td>\n",
       "      <td>17436</td>\n",
       "      <td>-</td>\n",
       "      <td>gene_id \"ENSG00000278267.1\"; transcript_id \"EN...</td>\n",
       "      <td>ENSG00000278267.1</td>\n",
       "      <td>17436</td>\n",
       "      <td>17436</td>\n",
       "    </tr>\n",
       "    <tr>\n",
       "      <th>4</th>\n",
       "      <td>chr1</td>\n",
       "      <td>HAVANA</td>\n",
       "      <td>transcript</td>\n",
       "      <td>29554</td>\n",
       "      <td>31097</td>\n",
       "      <td>+</td>\n",
       "      <td>gene_id \"ENSG00000243485.5\"; transcript_id \"EN...</td>\n",
       "      <td>ENSG00000243485.5</td>\n",
       "      <td>29554</td>\n",
       "      <td>29554</td>\n",
       "    </tr>\n",
       "  </tbody>\n",
       "</table>\n",
       "</div>"
      ],
      "text/plain": [
       "  chrom   source        type  transcript_start  transcript_end strand  \\\n",
       "0  chr1   HAVANA  transcript             11869           14409      +   \n",
       "1  chr1   HAVANA  transcript             12010           13670      +   \n",
       "2  chr1   HAVANA  transcript             14404           29570      -   \n",
       "3  chr1  ENSEMBL  transcript             17369           17436      -   \n",
       "4  chr1   HAVANA  transcript             29554           31097      +   \n",
       "\n",
       "                                                data            gene_id  \\\n",
       "0  gene_id \"ENSG00000223972.5\"; transcript_id \"EN...  ENSG00000223972.5   \n",
       "1  gene_id \"ENSG00000223972.5\"; transcript_id \"EN...  ENSG00000223972.5   \n",
       "2  gene_id \"ENSG00000227232.5\"; transcript_id \"EN...  ENSG00000227232.5   \n",
       "3  gene_id \"ENSG00000278267.1\"; transcript_id \"EN...  ENSG00000278267.1   \n",
       "4  gene_id \"ENSG00000243485.5\"; transcript_id \"EN...  ENSG00000243485.5   \n",
       "\n",
       "   start    end  \n",
       "0  11869  11869  \n",
       "1  12010  12010  \n",
       "2  29570  29570  \n",
       "3  17436  17436  \n",
       "4  29554  29554  "
      ]
     },
     "execution_count": 45,
     "metadata": {},
     "output_type": "execute_result"
    }
   ],
   "source": [
    "transcripts_df.head()"
   ]
  },
  {
   "cell_type": "code",
   "execution_count": 46,
   "id": "2583f867-93b9-4df8-8970-3235d5ffa8f1",
   "metadata": {
    "execution": {
     "iopub.execute_input": "2024-07-25T14:47:55.881427Z",
     "iopub.status.busy": "2024-07-25T14:47:55.880370Z",
     "iopub.status.idle": "2024-07-25T14:47:55.995807Z",
     "shell.execute_reply": "2024-07-25T14:47:55.994759Z",
     "shell.execute_reply.started": "2024-07-25T14:47:55.881350Z"
    }
   },
   "outputs": [],
   "source": [
    "transcript_counts = Counter()\n",
    "for t in transcript_metadata:\n",
    "    gene_id = transcript_metadata[t][\"gene_id\"]\n",
    "    transcript_counts[gene_id] += 1"
   ]
  },
  {
   "cell_type": "code",
   "execution_count": 47,
   "id": "4407e79f-6e98-4bb7-b2c0-956caed26b2f",
   "metadata": {
    "execution": {
     "iopub.execute_input": "2024-07-25T14:47:56.418883Z",
     "iopub.status.busy": "2024-07-25T14:47:56.417324Z",
     "iopub.status.idle": "2024-07-25T14:47:56.449843Z",
     "shell.execute_reply": "2024-07-25T14:47:56.448903Z",
     "shell.execute_reply.started": "2024-07-25T14:47:56.418807Z"
    }
   },
   "outputs": [
    {
     "data": {
      "text/plain": [
       "[('ENSG00000109339.24', 87),\n",
       " ('ENSG00000145362.21', 70),\n",
       " ('ENSG00000121940.17', 62),\n",
       " ('ENSG00000109654.16', 53),\n",
       " ('ENSG00000234741.9', 52),\n",
       " ('ENSG00000164733.22', 52),\n",
       " ('ENSG00000087460.29', 50),\n",
       " ('ENSG00000228956.9', 44),\n",
       " ('ENSG00000134769.23', 44),\n",
       " ('ENSG00000182923.20', 41)]"
      ]
     },
     "execution_count": 47,
     "metadata": {},
     "output_type": "execute_result"
    }
   ],
   "source": [
    "transcript_counts.most_common()[:10]"
   ]
  },
  {
   "cell_type": "code",
   "execution_count": 48,
   "id": "cdf01d59-4ddf-44fd-8ef0-332cb58c2adc",
   "metadata": {
    "execution": {
     "iopub.execute_input": "2024-07-25T14:48:01.971108Z",
     "iopub.status.busy": "2024-07-25T14:48:01.970343Z",
     "iopub.status.idle": "2024-07-25T14:48:02.001591Z",
     "shell.execute_reply": "2024-07-25T14:48:02.000580Z",
     "shell.execute_reply.started": "2024-07-25T14:48:01.971036Z"
    }
   },
   "outputs": [],
   "source": [
    "n_most = transcript_counts.most_common()[0][1]"
   ]
  },
  {
   "cell_type": "code",
   "execution_count": 49,
   "id": "bb61971e-15d0-4a84-980e-d8bc5813f729",
   "metadata": {
    "execution": {
     "iopub.execute_input": "2024-07-25T14:48:02.003016Z",
     "iopub.status.busy": "2024-07-25T14:48:02.002809Z",
     "iopub.status.idle": "2024-07-25T14:48:02.007770Z",
     "shell.execute_reply": "2024-07-25T14:48:02.006865Z",
     "shell.execute_reply.started": "2024-07-25T14:48:02.002996Z"
    }
   },
   "outputs": [
    {
     "name": "stdout",
     "output_type": "stream",
     "text": [
      "A gene could have at most 87 transcripts\n"
     ]
    }
   ],
   "source": [
    "print(\"A gene could have at most {} transcripts\".format(n_most))"
   ]
  },
  {
   "cell_type": "code",
   "execution_count": 50,
   "id": "95426289-639b-4181-bff9-546ce57bf4ec",
   "metadata": {
    "execution": {
     "iopub.execute_input": "2024-07-25T14:48:04.288708Z",
     "iopub.status.busy": "2024-07-25T14:48:04.287962Z",
     "iopub.status.idle": "2024-07-25T14:48:11.260467Z",
     "shell.execute_reply": "2024-07-25T14:48:11.259410Z",
     "shell.execute_reply.started": "2024-07-25T14:48:04.288639Z"
    }
   },
   "outputs": [
    {
     "data": {
      "text/html": [
       "<div>\n",
       "<style scoped>\n",
       "    .dataframe tbody tr th:only-of-type {\n",
       "        vertical-align: middle;\n",
       "    }\n",
       "\n",
       "    .dataframe tbody tr th {\n",
       "        vertical-align: top;\n",
       "    }\n",
       "\n",
       "    .dataframe thead th {\n",
       "        text-align: right;\n",
       "    }\n",
       "</style>\n",
       "<table border=\"1\" class=\"dataframe\">\n",
       "  <thead>\n",
       "    <tr style=\"text-align: right;\">\n",
       "      <th></th>\n",
       "      <th>chrom</th>\n",
       "      <th>start</th>\n",
       "      <th>end</th>\n",
       "      <th>rDHS</th>\n",
       "      <th>cCRE</th>\n",
       "      <th>cCRE_type</th>\n",
       "    </tr>\n",
       "  </thead>\n",
       "  <tbody>\n",
       "    <tr>\n",
       "      <th>0</th>\n",
       "      <td>chr1</td>\n",
       "      <td>10033</td>\n",
       "      <td>10250</td>\n",
       "      <td>EH38D4327497</td>\n",
       "      <td>EH38E2776516</td>\n",
       "      <td>pELS</td>\n",
       "    </tr>\n",
       "    <tr>\n",
       "      <th>1</th>\n",
       "      <td>chr1</td>\n",
       "      <td>10385</td>\n",
       "      <td>10713</td>\n",
       "      <td>EH38D4327498</td>\n",
       "      <td>EH38E2776517</td>\n",
       "      <td>pELS</td>\n",
       "    </tr>\n",
       "    <tr>\n",
       "      <th>2</th>\n",
       "      <td>chr1</td>\n",
       "      <td>16097</td>\n",
       "      <td>16381</td>\n",
       "      <td>EH38D6144701</td>\n",
       "      <td>EH38E3951272</td>\n",
       "      <td>CA-CTCF</td>\n",
       "    </tr>\n",
       "    <tr>\n",
       "      <th>3</th>\n",
       "      <td>chr1</td>\n",
       "      <td>17343</td>\n",
       "      <td>17642</td>\n",
       "      <td>EH38D6144702</td>\n",
       "      <td>EH38E3951273</td>\n",
       "      <td>CA-TF</td>\n",
       "    </tr>\n",
       "    <tr>\n",
       "      <th>4</th>\n",
       "      <td>chr1</td>\n",
       "      <td>29320</td>\n",
       "      <td>29517</td>\n",
       "      <td>EH38D6144703</td>\n",
       "      <td>EH38E3951274</td>\n",
       "      <td>CA</td>\n",
       "    </tr>\n",
       "  </tbody>\n",
       "</table>\n",
       "</div>"
      ],
      "text/plain": [
       "  chrom  start    end          rDHS          cCRE cCRE_type\n",
       "0  chr1  10033  10250  EH38D4327497  EH38E2776516      pELS\n",
       "1  chr1  10385  10713  EH38D4327498  EH38E2776517      pELS\n",
       "2  chr1  16097  16381  EH38D6144701  EH38E3951272   CA-CTCF\n",
       "3  chr1  17343  17642  EH38D6144702  EH38E3951273     CA-TF\n",
       "4  chr1  29320  29517  EH38D6144703  EH38E3951274        CA"
      ]
     },
     "execution_count": 50,
     "metadata": {},
     "output_type": "execute_result"
    }
   ],
   "source": [
    "cCREs = pd.read_csv(\"/data/projects/encode/Registry/V4/GRCh38/GRCh38-cCREs.bed\",\n",
    "                    sep=\"\\t\",\n",
    "                    header=None,\n",
    "                    names=[\"chrom\", \"start\", \"end\", \"rDHS\", \"cCRE\", \"cCRE_type\"])\n",
    "cCREs.head()"
   ]
  },
  {
   "cell_type": "code",
   "execution_count": 51,
   "id": "17e47aa9-7de1-4e65-baa2-77f9c95318ff",
   "metadata": {
    "execution": {
     "iopub.execute_input": "2024-07-25T14:48:11.845445Z",
     "iopub.status.busy": "2024-07-25T14:48:11.845241Z",
     "iopub.status.idle": "2024-07-25T14:48:13.838723Z",
     "shell.execute_reply": "2024-07-25T14:48:13.836924Z",
     "shell.execute_reply.started": "2024-07-25T14:48:11.845427Z"
    }
   },
   "outputs": [],
   "source": [
    "cCREs = cCREs.sort_values(['chrom', 'start'], ascending=[True, True]).reset_index(drop=True)\n",
    "transcripts_df = transcripts_df.sort_values(['chrom', 'start'], ascending=[True, True]).reset_index(drop=True)"
   ]
  },
  {
   "cell_type": "code",
   "execution_count": 52,
   "id": "089edb79-cceb-49c0-aa64-8583cc762b05",
   "metadata": {
    "execution": {
     "iopub.execute_input": "2024-07-25T14:48:13.840409Z",
     "iopub.status.busy": "2024-07-25T14:48:13.840203Z",
     "iopub.status.idle": "2024-07-25T14:48:13.848324Z",
     "shell.execute_reply": "2024-07-25T14:48:13.847430Z",
     "shell.execute_reply.started": "2024-07-25T14:48:13.840389Z"
    }
   },
   "outputs": [],
   "source": [
    "def get_n_closest(chrom):\n",
    "    test = bf.closest(cCREs[cCREs[\"chrom\"] == chrom], transcripts_df[transcripts_df[\"chrom\"] == chrom], suffixes=[\"_cCRE\",\"_transcript\"], k=int(3*n_most))\n",
    "    index = test.drop_duplicates(subset= [\"cCRE_cCRE\", \"gene_id_transcript\"]).groupby(\"cCRE_cCRE\").distance.nsmallest(3).index\n",
    "    index = [_[1] for _ in index]\n",
    "    return(test.iloc[index])"
   ]
  },
  {
   "cell_type": "code",
   "execution_count": 53,
   "id": "550f35bd-28ba-42bd-86cc-0838206170a4",
   "metadata": {
    "execution": {
     "iopub.execute_input": "2024-07-25T14:48:13.849148Z",
     "iopub.status.busy": "2024-07-25T14:48:13.848980Z",
     "iopub.status.idle": "2024-07-25T14:52:11.282713Z",
     "shell.execute_reply": "2024-07-25T14:52:11.280279Z",
     "shell.execute_reply.started": "2024-07-25T14:48:13.849131Z"
    }
   },
   "outputs": [
    {
     "name": "stderr",
     "output_type": "stream",
     "text": [
      "100%|███████████████████████████████████████████████████████████████████████████████████████████████████████████████████████████████████████████████████████████████| 24/24 [03:55<00:00,  9.80s/it]\n"
     ]
    }
   ],
   "source": [
    "def run_imap_multiprocessing(func, argument_list, num_processes):\n",
    "\n",
    "    pool = Pool(processes=num_processes)\n",
    "\n",
    "    result_list_tqdm = []\n",
    "    for result in tqdm.tqdm(pool.imap(func=func, iterable=argument_list), total=len(argument_list)):\n",
    "        result_list_tqdm.append(result)\n",
    "\n",
    "    return result_list_tqdm\n",
    "\n",
    "chroms = cCREs.chrom.unique().tolist()\n",
    "df = run_imap_multiprocessing(get_n_closest, chroms, len(chroms))"
   ]
  },
  {
   "cell_type": "code",
   "execution_count": 54,
   "id": "b313d81c-82b4-46e0-b009-c8ff615b8f8c",
   "metadata": {
    "execution": {
     "iopub.execute_input": "2024-07-25T14:52:13.842151Z",
     "iopub.status.busy": "2024-07-25T14:52:13.841931Z",
     "iopub.status.idle": "2024-07-25T14:52:19.281079Z",
     "shell.execute_reply": "2024-07-25T14:52:19.279067Z",
     "shell.execute_reply.started": "2024-07-25T14:52:13.842132Z"
    }
   },
   "outputs": [],
   "source": [
    "df = pd.concat(df).sort_values([\"chrom_cCRE\", \"start_cCRE\"], ascending=[True, True]).reset_index(drop=True)"
   ]
  },
  {
   "cell_type": "code",
   "execution_count": 55,
   "id": "4f9ed2a5-efc9-4310-8943-05dab776701e",
   "metadata": {
    "execution": {
     "iopub.execute_input": "2024-07-25T14:52:19.283547Z",
     "iopub.status.busy": "2024-07-25T14:52:19.283139Z",
     "iopub.status.idle": "2024-07-25T14:52:19.300275Z",
     "shell.execute_reply": "2024-07-25T14:52:19.299401Z",
     "shell.execute_reply.started": "2024-07-25T14:52:19.283507Z"
    }
   },
   "outputs": [
    {
     "data": {
      "text/html": [
       "<div>\n",
       "<style scoped>\n",
       "    .dataframe tbody tr th:only-of-type {\n",
       "        vertical-align: middle;\n",
       "    }\n",
       "\n",
       "    .dataframe tbody tr th {\n",
       "        vertical-align: top;\n",
       "    }\n",
       "\n",
       "    .dataframe thead th {\n",
       "        text-align: right;\n",
       "    }\n",
       "</style>\n",
       "<table border=\"1\" class=\"dataframe\">\n",
       "  <thead>\n",
       "    <tr style=\"text-align: right;\">\n",
       "      <th></th>\n",
       "      <th>chrom_cCRE</th>\n",
       "      <th>start_cCRE</th>\n",
       "      <th>end_cCRE</th>\n",
       "      <th>rDHS_cCRE</th>\n",
       "      <th>cCRE_cCRE</th>\n",
       "      <th>cCRE_type_cCRE</th>\n",
       "      <th>chrom_transcript</th>\n",
       "      <th>source_transcript</th>\n",
       "      <th>type_transcript</th>\n",
       "      <th>transcript_start_transcript</th>\n",
       "      <th>transcript_end_transcript</th>\n",
       "      <th>strand_transcript</th>\n",
       "      <th>data_transcript</th>\n",
       "      <th>gene_id_transcript</th>\n",
       "      <th>start_transcript</th>\n",
       "      <th>end_transcript</th>\n",
       "      <th>distance</th>\n",
       "    </tr>\n",
       "  </thead>\n",
       "  <tbody>\n",
       "    <tr>\n",
       "      <th>0</th>\n",
       "      <td>chr1</td>\n",
       "      <td>10033</td>\n",
       "      <td>10250</td>\n",
       "      <td>EH38D4327497</td>\n",
       "      <td>EH38E2776516</td>\n",
       "      <td>pELS</td>\n",
       "      <td>chr1</td>\n",
       "      <td>HAVANA</td>\n",
       "      <td>transcript</td>\n",
       "      <td>11869</td>\n",
       "      <td>14409</td>\n",
       "      <td>+</td>\n",
       "      <td>gene_id \"ENSG00000223972.5\"; transcript_id \"EN...</td>\n",
       "      <td>ENSG00000223972.5</td>\n",
       "      <td>11869</td>\n",
       "      <td>11869</td>\n",
       "      <td>1619</td>\n",
       "    </tr>\n",
       "    <tr>\n",
       "      <th>1</th>\n",
       "      <td>chr1</td>\n",
       "      <td>10033</td>\n",
       "      <td>10250</td>\n",
       "      <td>EH38D4327497</td>\n",
       "      <td>EH38E2776516</td>\n",
       "      <td>pELS</td>\n",
       "      <td>chr1</td>\n",
       "      <td>ENSEMBL</td>\n",
       "      <td>transcript</td>\n",
       "      <td>17369</td>\n",
       "      <td>17436</td>\n",
       "      <td>-</td>\n",
       "      <td>gene_id \"ENSG00000278267.1\"; transcript_id \"EN...</td>\n",
       "      <td>ENSG00000278267.1</td>\n",
       "      <td>17436</td>\n",
       "      <td>17436</td>\n",
       "      <td>7186</td>\n",
       "    </tr>\n",
       "    <tr>\n",
       "      <th>2</th>\n",
       "      <td>chr1</td>\n",
       "      <td>10033</td>\n",
       "      <td>10250</td>\n",
       "      <td>EH38D4327497</td>\n",
       "      <td>EH38E2776516</td>\n",
       "      <td>pELS</td>\n",
       "      <td>chr1</td>\n",
       "      <td>HAVANA</td>\n",
       "      <td>transcript</td>\n",
       "      <td>29554</td>\n",
       "      <td>31097</td>\n",
       "      <td>+</td>\n",
       "      <td>gene_id \"ENSG00000243485.5\"; transcript_id \"EN...</td>\n",
       "      <td>ENSG00000243485.5</td>\n",
       "      <td>29554</td>\n",
       "      <td>29554</td>\n",
       "      <td>19304</td>\n",
       "    </tr>\n",
       "    <tr>\n",
       "      <th>3</th>\n",
       "      <td>chr1</td>\n",
       "      <td>10385</td>\n",
       "      <td>10713</td>\n",
       "      <td>EH38D4327498</td>\n",
       "      <td>EH38E2776517</td>\n",
       "      <td>pELS</td>\n",
       "      <td>chr1</td>\n",
       "      <td>HAVANA</td>\n",
       "      <td>transcript</td>\n",
       "      <td>11869</td>\n",
       "      <td>14409</td>\n",
       "      <td>+</td>\n",
       "      <td>gene_id \"ENSG00000223972.5\"; transcript_id \"EN...</td>\n",
       "      <td>ENSG00000223972.5</td>\n",
       "      <td>11869</td>\n",
       "      <td>11869</td>\n",
       "      <td>1156</td>\n",
       "    </tr>\n",
       "    <tr>\n",
       "      <th>4</th>\n",
       "      <td>chr1</td>\n",
       "      <td>10385</td>\n",
       "      <td>10713</td>\n",
       "      <td>EH38D4327498</td>\n",
       "      <td>EH38E2776517</td>\n",
       "      <td>pELS</td>\n",
       "      <td>chr1</td>\n",
       "      <td>ENSEMBL</td>\n",
       "      <td>transcript</td>\n",
       "      <td>17369</td>\n",
       "      <td>17436</td>\n",
       "      <td>-</td>\n",
       "      <td>gene_id \"ENSG00000278267.1\"; transcript_id \"EN...</td>\n",
       "      <td>ENSG00000278267.1</td>\n",
       "      <td>17436</td>\n",
       "      <td>17436</td>\n",
       "      <td>6723</td>\n",
       "    </tr>\n",
       "  </tbody>\n",
       "</table>\n",
       "</div>"
      ],
      "text/plain": [
       "  chrom_cCRE  start_cCRE  end_cCRE     rDHS_cCRE     cCRE_cCRE cCRE_type_cCRE  \\\n",
       "0       chr1       10033     10250  EH38D4327497  EH38E2776516           pELS   \n",
       "1       chr1       10033     10250  EH38D4327497  EH38E2776516           pELS   \n",
       "2       chr1       10033     10250  EH38D4327497  EH38E2776516           pELS   \n",
       "3       chr1       10385     10713  EH38D4327498  EH38E2776517           pELS   \n",
       "4       chr1       10385     10713  EH38D4327498  EH38E2776517           pELS   \n",
       "\n",
       "  chrom_transcript source_transcript type_transcript  \\\n",
       "0             chr1            HAVANA      transcript   \n",
       "1             chr1           ENSEMBL      transcript   \n",
       "2             chr1            HAVANA      transcript   \n",
       "3             chr1            HAVANA      transcript   \n",
       "4             chr1           ENSEMBL      transcript   \n",
       "\n",
       "   transcript_start_transcript  transcript_end_transcript strand_transcript  \\\n",
       "0                        11869                      14409                 +   \n",
       "1                        17369                      17436                 -   \n",
       "2                        29554                      31097                 +   \n",
       "3                        11869                      14409                 +   \n",
       "4                        17369                      17436                 -   \n",
       "\n",
       "                                     data_transcript gene_id_transcript  \\\n",
       "0  gene_id \"ENSG00000223972.5\"; transcript_id \"EN...  ENSG00000223972.5   \n",
       "1  gene_id \"ENSG00000278267.1\"; transcript_id \"EN...  ENSG00000278267.1   \n",
       "2  gene_id \"ENSG00000243485.5\"; transcript_id \"EN...  ENSG00000243485.5   \n",
       "3  gene_id \"ENSG00000223972.5\"; transcript_id \"EN...  ENSG00000223972.5   \n",
       "4  gene_id \"ENSG00000278267.1\"; transcript_id \"EN...  ENSG00000278267.1   \n",
       "\n",
       "   start_transcript  end_transcript  distance  \n",
       "0             11869           11869      1619  \n",
       "1             17436           17436      7186  \n",
       "2             29554           29554     19304  \n",
       "3             11869           11869      1156  \n",
       "4             17436           17436      6723  "
      ]
     },
     "execution_count": 55,
     "metadata": {},
     "output_type": "execute_result"
    }
   ],
   "source": [
    "df.head()"
   ]
  },
  {
   "cell_type": "code",
   "execution_count": 56,
   "id": "70895d84-f196-4795-a4d1-d6fcada1ade1",
   "metadata": {
    "execution": {
     "iopub.execute_input": "2024-07-25T14:53:53.222723Z",
     "iopub.status.busy": "2024-07-25T14:53:53.222171Z",
     "iopub.status.idle": "2024-07-25T14:53:53.262774Z",
     "shell.execute_reply": "2024-07-25T14:53:53.261771Z",
     "shell.execute_reply.started": "2024-07-25T14:53:53.222696Z"
    }
   },
   "outputs": [],
   "source": [
    "gene_names = {_ : gene_metadata[_][\"gene_name\"] for _ in gene_metadata}"
   ]
  },
  {
   "cell_type": "code",
   "execution_count": 57,
   "id": "7e20132e-fe63-43e4-a060-f3a25bcdf873",
   "metadata": {
    "execution": {
     "iopub.execute_input": "2024-07-25T14:53:53.927194Z",
     "iopub.status.busy": "2024-07-25T14:53:53.926995Z",
     "iopub.status.idle": "2024-07-25T14:53:54.381032Z",
     "shell.execute_reply": "2024-07-25T14:53:54.379753Z",
     "shell.execute_reply.started": "2024-07-25T14:53:53.927176Z"
    }
   },
   "outputs": [],
   "source": [
    "df[\"gene_name\"] = df[\"gene_id_transcript\"].map(gene_names)"
   ]
  },
  {
   "cell_type": "code",
   "execution_count": 58,
   "id": "5263f9cb-4e49-4c1f-a70b-8907f4b07bb8",
   "metadata": {
    "execution": {
     "iopub.execute_input": "2024-07-25T14:53:54.966951Z",
     "iopub.status.busy": "2024-07-25T14:53:54.966743Z",
     "iopub.status.idle": "2024-07-25T14:53:55.392905Z",
     "shell.execute_reply": "2024-07-25T14:53:55.391972Z",
     "shell.execute_reply.started": "2024-07-25T14:53:54.966932Z"
    }
   },
   "outputs": [
    {
     "data": {
      "text/html": [
       "<div>\n",
       "<style scoped>\n",
       "    .dataframe tbody tr th:only-of-type {\n",
       "        vertical-align: middle;\n",
       "    }\n",
       "\n",
       "    .dataframe tbody tr th {\n",
       "        vertical-align: top;\n",
       "    }\n",
       "\n",
       "    .dataframe thead th {\n",
       "        text-align: right;\n",
       "    }\n",
       "</style>\n",
       "<table border=\"1\" class=\"dataframe\">\n",
       "  <thead>\n",
       "    <tr style=\"text-align: right;\">\n",
       "      <th></th>\n",
       "      <th>chrom_cCRE</th>\n",
       "      <th>start_cCRE</th>\n",
       "      <th>end_cCRE</th>\n",
       "      <th>cCRE_cCRE</th>\n",
       "      <th>rDHS_cCRE</th>\n",
       "      <th>cCRE_type_cCRE</th>\n",
       "      <th>gene_id_transcript</th>\n",
       "      <th>gene_name</th>\n",
       "      <th>start_transcript</th>\n",
       "      <th>end_transcript</th>\n",
       "      <th>distance</th>\n",
       "    </tr>\n",
       "  </thead>\n",
       "  <tbody>\n",
       "    <tr>\n",
       "      <th>0</th>\n",
       "      <td>chr1</td>\n",
       "      <td>10033</td>\n",
       "      <td>10250</td>\n",
       "      <td>EH38E2776516</td>\n",
       "      <td>EH38D4327497</td>\n",
       "      <td>pELS</td>\n",
       "      <td>ENSG00000223972.5</td>\n",
       "      <td>DDX11L1</td>\n",
       "      <td>11869</td>\n",
       "      <td>11869</td>\n",
       "      <td>1619</td>\n",
       "    </tr>\n",
       "    <tr>\n",
       "      <th>1</th>\n",
       "      <td>chr1</td>\n",
       "      <td>10033</td>\n",
       "      <td>10250</td>\n",
       "      <td>EH38E2776516</td>\n",
       "      <td>EH38D4327497</td>\n",
       "      <td>pELS</td>\n",
       "      <td>ENSG00000278267.1</td>\n",
       "      <td>MIR6859-1</td>\n",
       "      <td>17436</td>\n",
       "      <td>17436</td>\n",
       "      <td>7186</td>\n",
       "    </tr>\n",
       "    <tr>\n",
       "      <th>2</th>\n",
       "      <td>chr1</td>\n",
       "      <td>10033</td>\n",
       "      <td>10250</td>\n",
       "      <td>EH38E2776516</td>\n",
       "      <td>EH38D4327497</td>\n",
       "      <td>pELS</td>\n",
       "      <td>ENSG00000243485.5</td>\n",
       "      <td>MIR1302-2HG</td>\n",
       "      <td>29554</td>\n",
       "      <td>29554</td>\n",
       "      <td>19304</td>\n",
       "    </tr>\n",
       "    <tr>\n",
       "      <th>3</th>\n",
       "      <td>chr1</td>\n",
       "      <td>10385</td>\n",
       "      <td>10713</td>\n",
       "      <td>EH38E2776517</td>\n",
       "      <td>EH38D4327498</td>\n",
       "      <td>pELS</td>\n",
       "      <td>ENSG00000223972.5</td>\n",
       "      <td>DDX11L1</td>\n",
       "      <td>11869</td>\n",
       "      <td>11869</td>\n",
       "      <td>1156</td>\n",
       "    </tr>\n",
       "    <tr>\n",
       "      <th>4</th>\n",
       "      <td>chr1</td>\n",
       "      <td>10385</td>\n",
       "      <td>10713</td>\n",
       "      <td>EH38E2776517</td>\n",
       "      <td>EH38D4327498</td>\n",
       "      <td>pELS</td>\n",
       "      <td>ENSG00000278267.1</td>\n",
       "      <td>MIR6859-1</td>\n",
       "      <td>17436</td>\n",
       "      <td>17436</td>\n",
       "      <td>6723</td>\n",
       "    </tr>\n",
       "  </tbody>\n",
       "</table>\n",
       "</div>"
      ],
      "text/plain": [
       "  chrom_cCRE  start_cCRE  end_cCRE     cCRE_cCRE     rDHS_cCRE cCRE_type_cCRE  \\\n",
       "0       chr1       10033     10250  EH38E2776516  EH38D4327497           pELS   \n",
       "1       chr1       10033     10250  EH38E2776516  EH38D4327497           pELS   \n",
       "2       chr1       10033     10250  EH38E2776516  EH38D4327497           pELS   \n",
       "3       chr1       10385     10713  EH38E2776517  EH38D4327498           pELS   \n",
       "4       chr1       10385     10713  EH38E2776517  EH38D4327498           pELS   \n",
       "\n",
       "  gene_id_transcript    gene_name  start_transcript  end_transcript  distance  \n",
       "0  ENSG00000223972.5      DDX11L1             11869           11869      1619  \n",
       "1  ENSG00000278267.1    MIR6859-1             17436           17436      7186  \n",
       "2  ENSG00000243485.5  MIR1302-2HG             29554           29554     19304  \n",
       "3  ENSG00000223972.5      DDX11L1             11869           11869      1156  \n",
       "4  ENSG00000278267.1    MIR6859-1             17436           17436      6723  "
      ]
     },
     "execution_count": 58,
     "metadata": {},
     "output_type": "execute_result"
    }
   ],
   "source": [
    "columns = [\"chrom_cCRE\", \"start_cCRE\", \"end_cCRE\", \"cCRE_cCRE\", \"rDHS_cCRE\", \"cCRE_type_cCRE\", \"gene_id_transcript\", \"gene_name\", \"start_transcript\", \"end_transcript\", \"distance\"]\n",
    "df[columns].head()"
   ]
  },
  {
   "cell_type": "code",
   "execution_count": 59,
   "id": "e092182f-3bed-40f5-8f8f-71acdd77cb60",
   "metadata": {
    "execution": {
     "iopub.execute_input": "2024-07-25T14:53:57.004571Z",
     "iopub.status.busy": "2024-07-25T14:53:57.003799Z",
     "iopub.status.idle": "2024-07-25T14:54:17.678070Z",
     "shell.execute_reply": "2024-07-25T14:54:17.676509Z",
     "shell.execute_reply.started": "2024-07-25T14:53:57.004495Z"
    }
   },
   "outputs": [],
   "source": [
    "df[columns].to_csv(\"GRCh38-cCREs-closest_genes.bed\", sep=\"\\t\", index=False, header=False)"
   ]
  },
  {
   "cell_type": "code",
   "execution_count": null,
   "id": "f842f7bd-6a3d-465e-ba6a-287a4bc280b8",
   "metadata": {},
   "outputs": [],
   "source": []
  }
 ],
 "metadata": {
  "kernelspec": {
   "display_name": "Python 3 (ipykernel)",
   "language": "python",
   "name": "python3"
  },
  "language_info": {
   "codemirror_mode": {
    "name": "ipython",
    "version": 3
   },
   "file_extension": ".py",
   "mimetype": "text/x-python",
   "name": "python",
   "nbconvert_exporter": "python",
   "pygments_lexer": "ipython3",
   "version": "3.10.12"
  }
 },
 "nbformat": 4,
 "nbformat_minor": 5
}
