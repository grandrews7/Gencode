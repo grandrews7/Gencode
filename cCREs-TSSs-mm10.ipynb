{
 "cells": [
  {
   "cell_type": "code",
   "execution_count": 1,
   "id": "b0c8e6e6-9ea4-4787-9c0e-109534437db7",
   "metadata": {
    "execution": {
     "iopub.execute_input": "2024-07-25T14:58:04.007420Z",
     "iopub.status.busy": "2024-07-25T14:58:04.007251Z",
     "iopub.status.idle": "2024-07-25T14:58:04.277359Z",
     "shell.execute_reply": "2024-07-25T14:58:04.275728Z",
     "shell.execute_reply.started": "2024-07-25T14:58:04.007403Z"
    }
   },
   "outputs": [],
   "source": [
    "import pandas as pd\n",
    "import tqdm\n",
    "import bioframe as bf\n",
    "from collections import Counter\n",
    "from multiprocessing import Pool\n",
    "import numpy as np"
   ]
  },
  {
   "cell_type": "code",
   "execution_count": 2,
   "id": "73fb8ffb-1013-4036-a7f9-9192be9ef979",
   "metadata": {
    "execution": {
     "iopub.execute_input": "2024-07-25T14:58:04.279217Z",
     "iopub.status.busy": "2024-07-25T14:58:04.278879Z",
     "iopub.status.idle": "2024-07-25T14:58:10.744736Z",
     "shell.execute_reply": "2024-07-25T14:58:10.743621Z",
     "shell.execute_reply.started": "2024-07-25T14:58:04.279197Z"
    }
   },
   "outputs": [],
   "source": [
    "df = pd.read_csv(\"gencode.vM25.basic.annotation.gtf.gz\",\n",
    "                 sep=\"\\t\", skiprows=5, header=None, \n",
    "                 names=[\"chrom\", \"source\", \"type\", \"start\", \"end\", \"strand\", \"data\"], \n",
    "                 usecols=[0,1,2,3,4,6,8],\n",
    "                 low_memory=False)"
   ]
  },
  {
   "cell_type": "code",
   "execution_count": 3,
   "id": "c9f633a9-0e19-4167-8d3c-9256db13b596",
   "metadata": {
    "execution": {
     "iopub.execute_input": "2024-07-25T14:58:10.745935Z",
     "iopub.status.busy": "2024-07-25T14:58:10.745742Z",
     "iopub.status.idle": "2024-07-25T14:58:10.758631Z",
     "shell.execute_reply": "2024-07-25T14:58:10.757759Z",
     "shell.execute_reply.started": "2024-07-25T14:58:10.745916Z"
    }
   },
   "outputs": [
    {
     "data": {
      "text/html": [
       "<div>\n",
       "<style scoped>\n",
       "    .dataframe tbody tr th:only-of-type {\n",
       "        vertical-align: middle;\n",
       "    }\n",
       "\n",
       "    .dataframe tbody tr th {\n",
       "        vertical-align: top;\n",
       "    }\n",
       "\n",
       "    .dataframe thead th {\n",
       "        text-align: right;\n",
       "    }\n",
       "</style>\n",
       "<table border=\"1\" class=\"dataframe\">\n",
       "  <thead>\n",
       "    <tr style=\"text-align: right;\">\n",
       "      <th></th>\n",
       "      <th>chrom</th>\n",
       "      <th>source</th>\n",
       "      <th>type</th>\n",
       "      <th>start</th>\n",
       "      <th>end</th>\n",
       "      <th>strand</th>\n",
       "      <th>data</th>\n",
       "    </tr>\n",
       "  </thead>\n",
       "  <tbody>\n",
       "    <tr>\n",
       "      <th>0</th>\n",
       "      <td>chr1</td>\n",
       "      <td>HAVANA</td>\n",
       "      <td>gene</td>\n",
       "      <td>3073253</td>\n",
       "      <td>3074322</td>\n",
       "      <td>+</td>\n",
       "      <td>gene_id \"ENSMUSG00000102693.1\"; gene_type \"TEC...</td>\n",
       "    </tr>\n",
       "    <tr>\n",
       "      <th>1</th>\n",
       "      <td>chr1</td>\n",
       "      <td>HAVANA</td>\n",
       "      <td>transcript</td>\n",
       "      <td>3073253</td>\n",
       "      <td>3074322</td>\n",
       "      <td>+</td>\n",
       "      <td>gene_id \"ENSMUSG00000102693.1\"; transcript_id ...</td>\n",
       "    </tr>\n",
       "    <tr>\n",
       "      <th>2</th>\n",
       "      <td>chr1</td>\n",
       "      <td>HAVANA</td>\n",
       "      <td>exon</td>\n",
       "      <td>3073253</td>\n",
       "      <td>3074322</td>\n",
       "      <td>+</td>\n",
       "      <td>gene_id \"ENSMUSG00000102693.1\"; transcript_id ...</td>\n",
       "    </tr>\n",
       "    <tr>\n",
       "      <th>3</th>\n",
       "      <td>chr1</td>\n",
       "      <td>ENSEMBL</td>\n",
       "      <td>gene</td>\n",
       "      <td>3102016</td>\n",
       "      <td>3102125</td>\n",
       "      <td>+</td>\n",
       "      <td>gene_id \"ENSMUSG00000064842.1\"; gene_type \"snR...</td>\n",
       "    </tr>\n",
       "    <tr>\n",
       "      <th>4</th>\n",
       "      <td>chr1</td>\n",
       "      <td>ENSEMBL</td>\n",
       "      <td>transcript</td>\n",
       "      <td>3102016</td>\n",
       "      <td>3102125</td>\n",
       "      <td>+</td>\n",
       "      <td>gene_id \"ENSMUSG00000064842.1\"; transcript_id ...</td>\n",
       "    </tr>\n",
       "  </tbody>\n",
       "</table>\n",
       "</div>"
      ],
      "text/plain": [
       "  chrom   source        type    start      end strand  \\\n",
       "0  chr1   HAVANA        gene  3073253  3074322      +   \n",
       "1  chr1   HAVANA  transcript  3073253  3074322      +   \n",
       "2  chr1   HAVANA        exon  3073253  3074322      +   \n",
       "3  chr1  ENSEMBL        gene  3102016  3102125      +   \n",
       "4  chr1  ENSEMBL  transcript  3102016  3102125      +   \n",
       "\n",
       "                                                data  \n",
       "0  gene_id \"ENSMUSG00000102693.1\"; gene_type \"TEC...  \n",
       "1  gene_id \"ENSMUSG00000102693.1\"; transcript_id ...  \n",
       "2  gene_id \"ENSMUSG00000102693.1\"; transcript_id ...  \n",
       "3  gene_id \"ENSMUSG00000064842.1\"; gene_type \"snR...  \n",
       "4  gene_id \"ENSMUSG00000064842.1\"; transcript_id ...  "
      ]
     },
     "execution_count": 3,
     "metadata": {},
     "output_type": "execute_result"
    }
   ],
   "source": [
    "df.head()"
   ]
  },
  {
   "cell_type": "code",
   "execution_count": 4,
   "id": "67e6b16f-447c-4126-a664-7db4c58c0832",
   "metadata": {
    "execution": {
     "iopub.execute_input": "2024-07-25T14:58:10.759275Z",
     "iopub.status.busy": "2024-07-25T14:58:10.759113Z",
     "iopub.status.idle": "2024-07-25T14:58:10.893206Z",
     "shell.execute_reply": "2024-07-25T14:58:10.892300Z",
     "shell.execute_reply.started": "2024-07-25T14:58:10.759259Z"
    }
   },
   "outputs": [
    {
     "data": {
      "text/html": [
       "<div>\n",
       "<style scoped>\n",
       "    .dataframe tbody tr th:only-of-type {\n",
       "        vertical-align: middle;\n",
       "    }\n",
       "\n",
       "    .dataframe tbody tr th {\n",
       "        vertical-align: top;\n",
       "    }\n",
       "\n",
       "    .dataframe thead th {\n",
       "        text-align: right;\n",
       "    }\n",
       "</style>\n",
       "<table border=\"1\" class=\"dataframe\">\n",
       "  <thead>\n",
       "    <tr style=\"text-align: right;\">\n",
       "      <th></th>\n",
       "      <th>chrom</th>\n",
       "      <th>source</th>\n",
       "      <th>type</th>\n",
       "      <th>start</th>\n",
       "      <th>end</th>\n",
       "      <th>strand</th>\n",
       "      <th>data</th>\n",
       "    </tr>\n",
       "  </thead>\n",
       "  <tbody>\n",
       "    <tr>\n",
       "      <th>0</th>\n",
       "      <td>chr1</td>\n",
       "      <td>HAVANA</td>\n",
       "      <td>gene</td>\n",
       "      <td>3073253</td>\n",
       "      <td>3074322</td>\n",
       "      <td>+</td>\n",
       "      <td>gene_id \"ENSMUSG00000102693.1\"; gene_type \"TEC...</td>\n",
       "    </tr>\n",
       "    <tr>\n",
       "      <th>1</th>\n",
       "      <td>chr1</td>\n",
       "      <td>ENSEMBL</td>\n",
       "      <td>gene</td>\n",
       "      <td>3102016</td>\n",
       "      <td>3102125</td>\n",
       "      <td>+</td>\n",
       "      <td>gene_id \"ENSMUSG00000064842.1\"; gene_type \"snR...</td>\n",
       "    </tr>\n",
       "    <tr>\n",
       "      <th>2</th>\n",
       "      <td>chr1</td>\n",
       "      <td>HAVANA</td>\n",
       "      <td>gene</td>\n",
       "      <td>3205901</td>\n",
       "      <td>3671498</td>\n",
       "      <td>-</td>\n",
       "      <td>gene_id \"ENSMUSG00000051951.5\"; gene_type \"pro...</td>\n",
       "    </tr>\n",
       "    <tr>\n",
       "      <th>3</th>\n",
       "      <td>chr1</td>\n",
       "      <td>HAVANA</td>\n",
       "      <td>gene</td>\n",
       "      <td>3252757</td>\n",
       "      <td>3253236</td>\n",
       "      <td>+</td>\n",
       "      <td>gene_id \"ENSMUSG00000102851.1\"; gene_type \"pro...</td>\n",
       "    </tr>\n",
       "    <tr>\n",
       "      <th>4</th>\n",
       "      <td>chr1</td>\n",
       "      <td>HAVANA</td>\n",
       "      <td>gene</td>\n",
       "      <td>3365731</td>\n",
       "      <td>3368549</td>\n",
       "      <td>-</td>\n",
       "      <td>gene_id \"ENSMUSG00000103377.1\"; gene_type \"TEC...</td>\n",
       "    </tr>\n",
       "  </tbody>\n",
       "</table>\n",
       "</div>"
      ],
      "text/plain": [
       "  chrom   source  type    start      end strand  \\\n",
       "0  chr1   HAVANA  gene  3073253  3074322      +   \n",
       "1  chr1  ENSEMBL  gene  3102016  3102125      +   \n",
       "2  chr1   HAVANA  gene  3205901  3671498      -   \n",
       "3  chr1   HAVANA  gene  3252757  3253236      +   \n",
       "4  chr1   HAVANA  gene  3365731  3368549      -   \n",
       "\n",
       "                                                data  \n",
       "0  gene_id \"ENSMUSG00000102693.1\"; gene_type \"TEC...  \n",
       "1  gene_id \"ENSMUSG00000064842.1\"; gene_type \"snR...  \n",
       "2  gene_id \"ENSMUSG00000051951.5\"; gene_type \"pro...  \n",
       "3  gene_id \"ENSMUSG00000102851.1\"; gene_type \"pro...  \n",
       "4  gene_id \"ENSMUSG00000103377.1\"; gene_type \"TEC...  "
      ]
     },
     "execution_count": 4,
     "metadata": {},
     "output_type": "execute_result"
    }
   ],
   "source": [
    "genes_df = df[df[\"type\"] == \"gene\"].reset_index(drop=True)\n",
    "genes_df.head()"
   ]
  },
  {
   "cell_type": "code",
   "execution_count": 5,
   "id": "4af60319-797a-4e8b-b2ab-0e866f389420",
   "metadata": {
    "execution": {
     "iopub.execute_input": "2024-07-25T14:58:10.904050Z",
     "iopub.status.busy": "2024-07-25T14:58:10.903889Z",
     "iopub.status.idle": "2024-07-25T14:58:10.912479Z",
     "shell.execute_reply": "2024-07-25T14:58:10.911715Z",
     "shell.execute_reply.started": "2024-07-25T14:58:10.904034Z"
    }
   },
   "outputs": [
    {
     "data": {
      "text/plain": [
       "55401"
      ]
     },
     "execution_count": 5,
     "metadata": {},
     "output_type": "execute_result"
    }
   ],
   "source": [
    "genes_df.shape[0]"
   ]
  },
  {
   "cell_type": "code",
   "execution_count": 6,
   "id": "7eb25df0-1296-4b2c-b779-0b2a12e45d77",
   "metadata": {
    "execution": {
     "iopub.execute_input": "2024-07-25T14:58:10.922138Z",
     "iopub.status.busy": "2024-07-25T14:58:10.921969Z",
     "iopub.status.idle": "2024-07-25T14:58:13.350062Z",
     "shell.execute_reply": "2024-07-25T14:58:13.349085Z",
     "shell.execute_reply.started": "2024-07-25T14:58:10.922122Z"
    }
   },
   "outputs": [
    {
     "name": "stderr",
     "output_type": "stream",
     "text": [
      "100%|██████████████████████████████████████████████████████████████████████████████████████████████████████████████████████████████████████████████████████| 55401/55401 [00:02<00:00, 23015.05it/s]\n"
     ]
    }
   ],
   "source": [
    "gene_metadata = {}\n",
    "for i in tqdm.trange(genes_df.shape[0]):\n",
    "    row = genes_df.iloc[i]\n",
    "    row_metadata = row.data\n",
    "    row_metadata = row_metadata.replace(';', '').replace('\"', '').split()\n",
    "    metadata = {}\n",
    "    for i in range(len(row_metadata) // 2):\n",
    "        metadata[row_metadata[2*i]] = row_metadata[2*i + 1]\n",
    "    gene_id = metadata[\"gene_id\"]\n",
    "    gene_type = metadata[\"gene_type\"]\n",
    "    gene_name = metadata[\"gene_name\"]\n",
    "    gene_metadata[gene_id] = {\"gene_name\" : gene_name, \"gene_type\" : gene_type}"
   ]
  },
  {
   "cell_type": "code",
   "execution_count": 7,
   "id": "7e25a86b-3e18-492b-832b-7dcae76b5c03",
   "metadata": {
    "execution": {
     "iopub.execute_input": "2024-07-25T14:58:13.351178Z",
     "iopub.status.busy": "2024-07-25T14:58:13.350985Z",
     "iopub.status.idle": "2024-07-25T14:58:13.523801Z",
     "shell.execute_reply": "2024-07-25T14:58:13.522733Z",
     "shell.execute_reply.started": "2024-07-25T14:58:13.351159Z"
    }
   },
   "outputs": [],
   "source": [
    "transcripts_df = df[df[\"type\"] == \"transcript\"].reset_index(drop=True)\n",
    "transcripts_df[\"gene_id\"] = transcripts_df.data.map(lambda x: x.split(\";\")[0].split()[1].replace('\"',''))"
   ]
  },
  {
   "cell_type": "code",
   "execution_count": 8,
   "id": "a06aba00-3817-402a-8ab5-b9e7281e35ae",
   "metadata": {
    "execution": {
     "iopub.execute_input": "2024-07-25T14:58:13.524758Z",
     "iopub.status.busy": "2024-07-25T14:58:13.524576Z",
     "iopub.status.idle": "2024-07-25T14:58:13.531098Z",
     "shell.execute_reply": "2024-07-25T14:58:13.530224Z",
     "shell.execute_reply.started": "2024-07-25T14:58:13.524741Z"
    }
   },
   "outputs": [
    {
     "data": {
      "text/plain": [
       "(81540, 8)"
      ]
     },
     "execution_count": 8,
     "metadata": {},
     "output_type": "execute_result"
    }
   ],
   "source": [
    "transcripts_df.shape"
   ]
  },
  {
   "cell_type": "code",
   "execution_count": 9,
   "id": "7893ee1b-c4ce-46f4-a6f3-c55ebaa6d391",
   "metadata": {
    "execution": {
     "iopub.execute_input": "2024-07-25T14:58:13.531894Z",
     "iopub.status.busy": "2024-07-25T14:58:13.531730Z",
     "iopub.status.idle": "2024-07-25T14:58:13.585652Z",
     "shell.execute_reply": "2024-07-25T14:58:13.584282Z",
     "shell.execute_reply.started": "2024-07-25T14:58:13.531878Z"
    }
   },
   "outputs": [
    {
     "data": {
      "text/html": [
       "<div>\n",
       "<style scoped>\n",
       "    .dataframe tbody tr th:only-of-type {\n",
       "        vertical-align: middle;\n",
       "    }\n",
       "\n",
       "    .dataframe tbody tr th {\n",
       "        vertical-align: top;\n",
       "    }\n",
       "\n",
       "    .dataframe thead th {\n",
       "        text-align: right;\n",
       "    }\n",
       "</style>\n",
       "<table border=\"1\" class=\"dataframe\">\n",
       "  <thead>\n",
       "    <tr style=\"text-align: right;\">\n",
       "      <th></th>\n",
       "      <th>chrom</th>\n",
       "      <th>source</th>\n",
       "      <th>type</th>\n",
       "      <th>start</th>\n",
       "      <th>end</th>\n",
       "      <th>strand</th>\n",
       "      <th>data</th>\n",
       "      <th>gene_id</th>\n",
       "    </tr>\n",
       "  </thead>\n",
       "  <tbody>\n",
       "    <tr>\n",
       "      <th>0</th>\n",
       "      <td>chr1</td>\n",
       "      <td>HAVANA</td>\n",
       "      <td>transcript</td>\n",
       "      <td>3073253</td>\n",
       "      <td>3074322</td>\n",
       "      <td>+</td>\n",
       "      <td>gene_id \"ENSMUSG00000102693.1\"; transcript_id ...</td>\n",
       "      <td>ENSMUSG00000102693.1</td>\n",
       "    </tr>\n",
       "    <tr>\n",
       "      <th>1</th>\n",
       "      <td>chr1</td>\n",
       "      <td>ENSEMBL</td>\n",
       "      <td>transcript</td>\n",
       "      <td>3102016</td>\n",
       "      <td>3102125</td>\n",
       "      <td>+</td>\n",
       "      <td>gene_id \"ENSMUSG00000064842.1\"; transcript_id ...</td>\n",
       "      <td>ENSMUSG00000064842.1</td>\n",
       "    </tr>\n",
       "    <tr>\n",
       "      <th>2</th>\n",
       "      <td>chr1</td>\n",
       "      <td>HAVANA</td>\n",
       "      <td>transcript</td>\n",
       "      <td>3214482</td>\n",
       "      <td>3671498</td>\n",
       "      <td>-</td>\n",
       "      <td>gene_id \"ENSMUSG00000051951.5\"; transcript_id ...</td>\n",
       "      <td>ENSMUSG00000051951.5</td>\n",
       "    </tr>\n",
       "    <tr>\n",
       "      <th>3</th>\n",
       "      <td>chr1</td>\n",
       "      <td>HAVANA</td>\n",
       "      <td>transcript</td>\n",
       "      <td>3252757</td>\n",
       "      <td>3253236</td>\n",
       "      <td>+</td>\n",
       "      <td>gene_id \"ENSMUSG00000102851.1\"; transcript_id ...</td>\n",
       "      <td>ENSMUSG00000102851.1</td>\n",
       "    </tr>\n",
       "    <tr>\n",
       "      <th>4</th>\n",
       "      <td>chr1</td>\n",
       "      <td>HAVANA</td>\n",
       "      <td>transcript</td>\n",
       "      <td>3365731</td>\n",
       "      <td>3368549</td>\n",
       "      <td>-</td>\n",
       "      <td>gene_id \"ENSMUSG00000103377.1\"; transcript_id ...</td>\n",
       "      <td>ENSMUSG00000103377.1</td>\n",
       "    </tr>\n",
       "  </tbody>\n",
       "</table>\n",
       "</div>"
      ],
      "text/plain": [
       "  chrom   source        type    start      end strand  \\\n",
       "0  chr1   HAVANA  transcript  3073253  3074322      +   \n",
       "1  chr1  ENSEMBL  transcript  3102016  3102125      +   \n",
       "2  chr1   HAVANA  transcript  3214482  3671498      -   \n",
       "3  chr1   HAVANA  transcript  3252757  3253236      +   \n",
       "4  chr1   HAVANA  transcript  3365731  3368549      -   \n",
       "\n",
       "                                                data               gene_id  \n",
       "0  gene_id \"ENSMUSG00000102693.1\"; transcript_id ...  ENSMUSG00000102693.1  \n",
       "1  gene_id \"ENSMUSG00000064842.1\"; transcript_id ...  ENSMUSG00000064842.1  \n",
       "2  gene_id \"ENSMUSG00000051951.5\"; transcript_id ...  ENSMUSG00000051951.5  \n",
       "3  gene_id \"ENSMUSG00000102851.1\"; transcript_id ...  ENSMUSG00000102851.1  \n",
       "4  gene_id \"ENSMUSG00000103377.1\"; transcript_id ...  ENSMUSG00000103377.1  "
      ]
     },
     "execution_count": 9,
     "metadata": {},
     "output_type": "execute_result"
    }
   ],
   "source": [
    "transcripts_df.head()"
   ]
  },
  {
   "cell_type": "code",
   "execution_count": 10,
   "id": "40253c20-d622-4f31-9527-1d1c3c2802ef",
   "metadata": {
    "execution": {
     "iopub.execute_input": "2024-07-25T14:58:13.587177Z",
     "iopub.status.busy": "2024-07-25T14:58:13.586869Z",
     "iopub.status.idle": "2024-07-25T14:58:17.597256Z",
     "shell.execute_reply": "2024-07-25T14:58:17.596134Z",
     "shell.execute_reply.started": "2024-07-25T14:58:13.587147Z"
    }
   },
   "outputs": [
    {
     "name": "stderr",
     "output_type": "stream",
     "text": [
      "100%|██████████████████████████████████████████████████████████████████████████████████████████████████████████████████████████████████████████████████████| 81540/81540 [00:03<00:00, 20546.92it/s]\n"
     ]
    }
   ],
   "source": [
    "transcript_metadata = {}\n",
    "for i in tqdm.trange(transcripts_df.shape[0]):\n",
    "    row = transcripts_df.iloc[i]\n",
    "    row_metadata = row.data\n",
    "    row_metadata = row_metadata.replace(';', '').replace('\"', '').split()\n",
    "    metadata = {}\n",
    "    for i in range(len(row_metadata) // 2):\n",
    "        metadata[row_metadata[2*i]] = row_metadata[2*i + 1]\n",
    "    gene_id = metadata[\"gene_id\"]\n",
    "    transcript_id = metadata[\"transcript_id\"]\n",
    "    gene_name = metadata[\"gene_name\"]\n",
    "    gene_type = metadata[\"gene_type\"]\n",
    "    transcript_metadata[transcript_id] = {\"gene_id\" : gene_id, \n",
    "                                          \"gene_name\" : gene_name,\n",
    "                                          \"gene_type\" : gene_type}"
   ]
  },
  {
   "cell_type": "code",
   "execution_count": 11,
   "id": "b17df4bd-21db-418a-9db6-d07ad1c62a63",
   "metadata": {
    "execution": {
     "iopub.execute_input": "2024-07-25T14:58:17.598622Z",
     "iopub.status.busy": "2024-07-25T14:58:17.598411Z",
     "iopub.status.idle": "2024-07-25T14:58:17.609682Z",
     "shell.execute_reply": "2024-07-25T14:58:17.608843Z",
     "shell.execute_reply.started": "2024-07-25T14:58:17.598602Z"
    }
   },
   "outputs": [
    {
     "data": {
      "text/html": [
       "<div>\n",
       "<style scoped>\n",
       "    .dataframe tbody tr th:only-of-type {\n",
       "        vertical-align: middle;\n",
       "    }\n",
       "\n",
       "    .dataframe tbody tr th {\n",
       "        vertical-align: top;\n",
       "    }\n",
       "\n",
       "    .dataframe thead th {\n",
       "        text-align: right;\n",
       "    }\n",
       "</style>\n",
       "<table border=\"1\" class=\"dataframe\">\n",
       "  <thead>\n",
       "    <tr style=\"text-align: right;\">\n",
       "      <th></th>\n",
       "      <th>chrom</th>\n",
       "      <th>source</th>\n",
       "      <th>type</th>\n",
       "      <th>start</th>\n",
       "      <th>end</th>\n",
       "      <th>strand</th>\n",
       "      <th>data</th>\n",
       "      <th>gene_id</th>\n",
       "    </tr>\n",
       "  </thead>\n",
       "  <tbody>\n",
       "    <tr>\n",
       "      <th>0</th>\n",
       "      <td>chr1</td>\n",
       "      <td>HAVANA</td>\n",
       "      <td>transcript</td>\n",
       "      <td>3073253</td>\n",
       "      <td>3074322</td>\n",
       "      <td>+</td>\n",
       "      <td>gene_id \"ENSMUSG00000102693.1\"; transcript_id ...</td>\n",
       "      <td>ENSMUSG00000102693.1</td>\n",
       "    </tr>\n",
       "    <tr>\n",
       "      <th>1</th>\n",
       "      <td>chr1</td>\n",
       "      <td>ENSEMBL</td>\n",
       "      <td>transcript</td>\n",
       "      <td>3102016</td>\n",
       "      <td>3102125</td>\n",
       "      <td>+</td>\n",
       "      <td>gene_id \"ENSMUSG00000064842.1\"; transcript_id ...</td>\n",
       "      <td>ENSMUSG00000064842.1</td>\n",
       "    </tr>\n",
       "    <tr>\n",
       "      <th>2</th>\n",
       "      <td>chr1</td>\n",
       "      <td>HAVANA</td>\n",
       "      <td>transcript</td>\n",
       "      <td>3214482</td>\n",
       "      <td>3671498</td>\n",
       "      <td>-</td>\n",
       "      <td>gene_id \"ENSMUSG00000051951.5\"; transcript_id ...</td>\n",
       "      <td>ENSMUSG00000051951.5</td>\n",
       "    </tr>\n",
       "    <tr>\n",
       "      <th>3</th>\n",
       "      <td>chr1</td>\n",
       "      <td>HAVANA</td>\n",
       "      <td>transcript</td>\n",
       "      <td>3252757</td>\n",
       "      <td>3253236</td>\n",
       "      <td>+</td>\n",
       "      <td>gene_id \"ENSMUSG00000102851.1\"; transcript_id ...</td>\n",
       "      <td>ENSMUSG00000102851.1</td>\n",
       "    </tr>\n",
       "    <tr>\n",
       "      <th>4</th>\n",
       "      <td>chr1</td>\n",
       "      <td>HAVANA</td>\n",
       "      <td>transcript</td>\n",
       "      <td>3365731</td>\n",
       "      <td>3368549</td>\n",
       "      <td>-</td>\n",
       "      <td>gene_id \"ENSMUSG00000103377.1\"; transcript_id ...</td>\n",
       "      <td>ENSMUSG00000103377.1</td>\n",
       "    </tr>\n",
       "  </tbody>\n",
       "</table>\n",
       "</div>"
      ],
      "text/plain": [
       "  chrom   source        type    start      end strand  \\\n",
       "0  chr1   HAVANA  transcript  3073253  3074322      +   \n",
       "1  chr1  ENSEMBL  transcript  3102016  3102125      +   \n",
       "2  chr1   HAVANA  transcript  3214482  3671498      -   \n",
       "3  chr1   HAVANA  transcript  3252757  3253236      +   \n",
       "4  chr1   HAVANA  transcript  3365731  3368549      -   \n",
       "\n",
       "                                                data               gene_id  \n",
       "0  gene_id \"ENSMUSG00000102693.1\"; transcript_id ...  ENSMUSG00000102693.1  \n",
       "1  gene_id \"ENSMUSG00000064842.1\"; transcript_id ...  ENSMUSG00000064842.1  \n",
       "2  gene_id \"ENSMUSG00000051951.5\"; transcript_id ...  ENSMUSG00000051951.5  \n",
       "3  gene_id \"ENSMUSG00000102851.1\"; transcript_id ...  ENSMUSG00000102851.1  \n",
       "4  gene_id \"ENSMUSG00000103377.1\"; transcript_id ...  ENSMUSG00000103377.1  "
      ]
     },
     "execution_count": 11,
     "metadata": {},
     "output_type": "execute_result"
    }
   ],
   "source": [
    "transcripts_df.head()"
   ]
  },
  {
   "cell_type": "code",
   "execution_count": 12,
   "id": "9ce81928-39eb-4852-8405-0a77495838bf",
   "metadata": {
    "execution": {
     "iopub.execute_input": "2024-07-25T14:58:20.153773Z",
     "iopub.status.busy": "2024-07-25T14:58:20.153575Z",
     "iopub.status.idle": "2024-07-25T14:58:21.890167Z",
     "shell.execute_reply": "2024-07-25T14:58:21.889110Z",
     "shell.execute_reply.started": "2024-07-25T14:58:20.153740Z"
    }
   },
   "outputs": [],
   "source": [
    "def get_TSS(start, end, strand):\n",
    "    if strand == \"+\":\n",
    "        return(start, start)\n",
    "    else:\n",
    "        return(end, end)\n",
    "        \n",
    "transcripts_df[[\"TSS_start\", \"TSS_end\"]] = transcripts_df.apply(lambda x: get_TSS(x[\"start\"], x[\"end\"], x[\"strand\"]), axis=1, result_type=\"expand\")"
   ]
  },
  {
   "cell_type": "code",
   "execution_count": 13,
   "id": "0a0d9e0a-6257-4530-b573-0eec2b1f8f53",
   "metadata": {
    "execution": {
     "iopub.execute_input": "2024-07-25T14:58:21.891204Z",
     "iopub.status.busy": "2024-07-25T14:58:21.891019Z",
     "iopub.status.idle": "2024-07-25T14:58:21.901802Z",
     "shell.execute_reply": "2024-07-25T14:58:21.900904Z",
     "shell.execute_reply.started": "2024-07-25T14:58:21.891187Z"
    }
   },
   "outputs": [
    {
     "data": {
      "text/html": [
       "<div>\n",
       "<style scoped>\n",
       "    .dataframe tbody tr th:only-of-type {\n",
       "        vertical-align: middle;\n",
       "    }\n",
       "\n",
       "    .dataframe tbody tr th {\n",
       "        vertical-align: top;\n",
       "    }\n",
       "\n",
       "    .dataframe thead th {\n",
       "        text-align: right;\n",
       "    }\n",
       "</style>\n",
       "<table border=\"1\" class=\"dataframe\">\n",
       "  <thead>\n",
       "    <tr style=\"text-align: right;\">\n",
       "      <th></th>\n",
       "      <th>chrom</th>\n",
       "      <th>source</th>\n",
       "      <th>type</th>\n",
       "      <th>start</th>\n",
       "      <th>end</th>\n",
       "      <th>strand</th>\n",
       "      <th>data</th>\n",
       "      <th>gene_id</th>\n",
       "      <th>TSS_start</th>\n",
       "      <th>TSS_end</th>\n",
       "    </tr>\n",
       "  </thead>\n",
       "  <tbody>\n",
       "    <tr>\n",
       "      <th>0</th>\n",
       "      <td>chr1</td>\n",
       "      <td>HAVANA</td>\n",
       "      <td>transcript</td>\n",
       "      <td>3073253</td>\n",
       "      <td>3074322</td>\n",
       "      <td>+</td>\n",
       "      <td>gene_id \"ENSMUSG00000102693.1\"; transcript_id ...</td>\n",
       "      <td>ENSMUSG00000102693.1</td>\n",
       "      <td>3073253</td>\n",
       "      <td>3073253</td>\n",
       "    </tr>\n",
       "    <tr>\n",
       "      <th>1</th>\n",
       "      <td>chr1</td>\n",
       "      <td>ENSEMBL</td>\n",
       "      <td>transcript</td>\n",
       "      <td>3102016</td>\n",
       "      <td>3102125</td>\n",
       "      <td>+</td>\n",
       "      <td>gene_id \"ENSMUSG00000064842.1\"; transcript_id ...</td>\n",
       "      <td>ENSMUSG00000064842.1</td>\n",
       "      <td>3102016</td>\n",
       "      <td>3102016</td>\n",
       "    </tr>\n",
       "    <tr>\n",
       "      <th>2</th>\n",
       "      <td>chr1</td>\n",
       "      <td>HAVANA</td>\n",
       "      <td>transcript</td>\n",
       "      <td>3214482</td>\n",
       "      <td>3671498</td>\n",
       "      <td>-</td>\n",
       "      <td>gene_id \"ENSMUSG00000051951.5\"; transcript_id ...</td>\n",
       "      <td>ENSMUSG00000051951.5</td>\n",
       "      <td>3671498</td>\n",
       "      <td>3671498</td>\n",
       "    </tr>\n",
       "    <tr>\n",
       "      <th>3</th>\n",
       "      <td>chr1</td>\n",
       "      <td>HAVANA</td>\n",
       "      <td>transcript</td>\n",
       "      <td>3252757</td>\n",
       "      <td>3253236</td>\n",
       "      <td>+</td>\n",
       "      <td>gene_id \"ENSMUSG00000102851.1\"; transcript_id ...</td>\n",
       "      <td>ENSMUSG00000102851.1</td>\n",
       "      <td>3252757</td>\n",
       "      <td>3252757</td>\n",
       "    </tr>\n",
       "    <tr>\n",
       "      <th>4</th>\n",
       "      <td>chr1</td>\n",
       "      <td>HAVANA</td>\n",
       "      <td>transcript</td>\n",
       "      <td>3365731</td>\n",
       "      <td>3368549</td>\n",
       "      <td>-</td>\n",
       "      <td>gene_id \"ENSMUSG00000103377.1\"; transcript_id ...</td>\n",
       "      <td>ENSMUSG00000103377.1</td>\n",
       "      <td>3368549</td>\n",
       "      <td>3368549</td>\n",
       "    </tr>\n",
       "  </tbody>\n",
       "</table>\n",
       "</div>"
      ],
      "text/plain": [
       "  chrom   source        type    start      end strand  \\\n",
       "0  chr1   HAVANA  transcript  3073253  3074322      +   \n",
       "1  chr1  ENSEMBL  transcript  3102016  3102125      +   \n",
       "2  chr1   HAVANA  transcript  3214482  3671498      -   \n",
       "3  chr1   HAVANA  transcript  3252757  3253236      +   \n",
       "4  chr1   HAVANA  transcript  3365731  3368549      -   \n",
       "\n",
       "                                                data               gene_id  \\\n",
       "0  gene_id \"ENSMUSG00000102693.1\"; transcript_id ...  ENSMUSG00000102693.1   \n",
       "1  gene_id \"ENSMUSG00000064842.1\"; transcript_id ...  ENSMUSG00000064842.1   \n",
       "2  gene_id \"ENSMUSG00000051951.5\"; transcript_id ...  ENSMUSG00000051951.5   \n",
       "3  gene_id \"ENSMUSG00000102851.1\"; transcript_id ...  ENSMUSG00000102851.1   \n",
       "4  gene_id \"ENSMUSG00000103377.1\"; transcript_id ...  ENSMUSG00000103377.1   \n",
       "\n",
       "   TSS_start  TSS_end  \n",
       "0    3073253  3073253  \n",
       "1    3102016  3102016  \n",
       "2    3671498  3671498  \n",
       "3    3252757  3252757  \n",
       "4    3368549  3368549  "
      ]
     },
     "execution_count": 13,
     "metadata": {},
     "output_type": "execute_result"
    }
   ],
   "source": [
    "transcripts_df.head()"
   ]
  },
  {
   "cell_type": "code",
   "execution_count": 14,
   "id": "a073df06-e3da-4428-9f67-4bc199e17433",
   "metadata": {
    "execution": {
     "iopub.execute_input": "2024-07-25T14:58:21.902639Z",
     "iopub.status.busy": "2024-07-25T14:58:21.902475Z",
     "iopub.status.idle": "2024-07-25T14:58:22.007431Z",
     "shell.execute_reply": "2024-07-25T14:58:22.005653Z",
     "shell.execute_reply.started": "2024-07-25T14:58:21.902623Z"
    }
   },
   "outputs": [],
   "source": [
    "transcripts_df = transcripts_df.rename(columns = {\"start\" : \"transcript_start\", \n",
    "                                 \"end\" : \"transcript_end\", \n",
    "                                 \"TSS_start\" : \"start\",\n",
    "                                 \"TSS_end\" : \"end\"})"
   ]
  },
  {
   "cell_type": "code",
   "execution_count": 15,
   "id": "54bf4e36-b9e3-454c-b00c-1889c170c7fa",
   "metadata": {
    "execution": {
     "iopub.execute_input": "2024-07-25T14:58:22.008415Z",
     "iopub.status.busy": "2024-07-25T14:58:22.008229Z",
     "iopub.status.idle": "2024-07-25T14:58:22.093948Z",
     "shell.execute_reply": "2024-07-25T14:58:22.092476Z",
     "shell.execute_reply.started": "2024-07-25T14:58:22.008397Z"
    }
   },
   "outputs": [
    {
     "data": {
      "text/html": [
       "<div>\n",
       "<style scoped>\n",
       "    .dataframe tbody tr th:only-of-type {\n",
       "        vertical-align: middle;\n",
       "    }\n",
       "\n",
       "    .dataframe tbody tr th {\n",
       "        vertical-align: top;\n",
       "    }\n",
       "\n",
       "    .dataframe thead th {\n",
       "        text-align: right;\n",
       "    }\n",
       "</style>\n",
       "<table border=\"1\" class=\"dataframe\">\n",
       "  <thead>\n",
       "    <tr style=\"text-align: right;\">\n",
       "      <th></th>\n",
       "      <th>chrom</th>\n",
       "      <th>source</th>\n",
       "      <th>type</th>\n",
       "      <th>transcript_start</th>\n",
       "      <th>transcript_end</th>\n",
       "      <th>strand</th>\n",
       "      <th>data</th>\n",
       "      <th>gene_id</th>\n",
       "      <th>start</th>\n",
       "      <th>end</th>\n",
       "    </tr>\n",
       "  </thead>\n",
       "  <tbody>\n",
       "    <tr>\n",
       "      <th>0</th>\n",
       "      <td>chr1</td>\n",
       "      <td>HAVANA</td>\n",
       "      <td>transcript</td>\n",
       "      <td>3073253</td>\n",
       "      <td>3074322</td>\n",
       "      <td>+</td>\n",
       "      <td>gene_id \"ENSMUSG00000102693.1\"; transcript_id ...</td>\n",
       "      <td>ENSMUSG00000102693.1</td>\n",
       "      <td>3073253</td>\n",
       "      <td>3073253</td>\n",
       "    </tr>\n",
       "    <tr>\n",
       "      <th>1</th>\n",
       "      <td>chr1</td>\n",
       "      <td>ENSEMBL</td>\n",
       "      <td>transcript</td>\n",
       "      <td>3102016</td>\n",
       "      <td>3102125</td>\n",
       "      <td>+</td>\n",
       "      <td>gene_id \"ENSMUSG00000064842.1\"; transcript_id ...</td>\n",
       "      <td>ENSMUSG00000064842.1</td>\n",
       "      <td>3102016</td>\n",
       "      <td>3102016</td>\n",
       "    </tr>\n",
       "    <tr>\n",
       "      <th>2</th>\n",
       "      <td>chr1</td>\n",
       "      <td>HAVANA</td>\n",
       "      <td>transcript</td>\n",
       "      <td>3214482</td>\n",
       "      <td>3671498</td>\n",
       "      <td>-</td>\n",
       "      <td>gene_id \"ENSMUSG00000051951.5\"; transcript_id ...</td>\n",
       "      <td>ENSMUSG00000051951.5</td>\n",
       "      <td>3671498</td>\n",
       "      <td>3671498</td>\n",
       "    </tr>\n",
       "    <tr>\n",
       "      <th>3</th>\n",
       "      <td>chr1</td>\n",
       "      <td>HAVANA</td>\n",
       "      <td>transcript</td>\n",
       "      <td>3252757</td>\n",
       "      <td>3253236</td>\n",
       "      <td>+</td>\n",
       "      <td>gene_id \"ENSMUSG00000102851.1\"; transcript_id ...</td>\n",
       "      <td>ENSMUSG00000102851.1</td>\n",
       "      <td>3252757</td>\n",
       "      <td>3252757</td>\n",
       "    </tr>\n",
       "    <tr>\n",
       "      <th>4</th>\n",
       "      <td>chr1</td>\n",
       "      <td>HAVANA</td>\n",
       "      <td>transcript</td>\n",
       "      <td>3365731</td>\n",
       "      <td>3368549</td>\n",
       "      <td>-</td>\n",
       "      <td>gene_id \"ENSMUSG00000103377.1\"; transcript_id ...</td>\n",
       "      <td>ENSMUSG00000103377.1</td>\n",
       "      <td>3368549</td>\n",
       "      <td>3368549</td>\n",
       "    </tr>\n",
       "  </tbody>\n",
       "</table>\n",
       "</div>"
      ],
      "text/plain": [
       "  chrom   source        type  transcript_start  transcript_end strand  \\\n",
       "0  chr1   HAVANA  transcript           3073253         3074322      +   \n",
       "1  chr1  ENSEMBL  transcript           3102016         3102125      +   \n",
       "2  chr1   HAVANA  transcript           3214482         3671498      -   \n",
       "3  chr1   HAVANA  transcript           3252757         3253236      +   \n",
       "4  chr1   HAVANA  transcript           3365731         3368549      -   \n",
       "\n",
       "                                                data               gene_id  \\\n",
       "0  gene_id \"ENSMUSG00000102693.1\"; transcript_id ...  ENSMUSG00000102693.1   \n",
       "1  gene_id \"ENSMUSG00000064842.1\"; transcript_id ...  ENSMUSG00000064842.1   \n",
       "2  gene_id \"ENSMUSG00000051951.5\"; transcript_id ...  ENSMUSG00000051951.5   \n",
       "3  gene_id \"ENSMUSG00000102851.1\"; transcript_id ...  ENSMUSG00000102851.1   \n",
       "4  gene_id \"ENSMUSG00000103377.1\"; transcript_id ...  ENSMUSG00000103377.1   \n",
       "\n",
       "     start      end  \n",
       "0  3073253  3073253  \n",
       "1  3102016  3102016  \n",
       "2  3671498  3671498  \n",
       "3  3252757  3252757  \n",
       "4  3368549  3368549  "
      ]
     },
     "execution_count": 15,
     "metadata": {},
     "output_type": "execute_result"
    }
   ],
   "source": [
    "transcripts_df.head()"
   ]
  },
  {
   "cell_type": "code",
   "execution_count": 16,
   "id": "2583f867-93b9-4df8-8970-3235d5ffa8f1",
   "metadata": {
    "execution": {
     "iopub.execute_input": "2024-07-25T14:58:22.095410Z",
     "iopub.status.busy": "2024-07-25T14:58:22.095192Z",
     "iopub.status.idle": "2024-07-25T14:58:22.252097Z",
     "shell.execute_reply": "2024-07-25T14:58:22.251211Z",
     "shell.execute_reply.started": "2024-07-25T14:58:22.095389Z"
    }
   },
   "outputs": [],
   "source": [
    "transcript_counts = Counter()\n",
    "for t in transcript_metadata:\n",
    "    gene_id = transcript_metadata[t][\"gene_id\"]\n",
    "    transcript_counts[gene_id] += 1"
   ]
  },
  {
   "cell_type": "code",
   "execution_count": 17,
   "id": "4407e79f-6e98-4bb7-b2c0-956caed26b2f",
   "metadata": {
    "execution": {
     "iopub.execute_input": "2024-07-25T14:58:23.050404Z",
     "iopub.status.busy": "2024-07-25T14:58:23.050215Z",
     "iopub.status.idle": "2024-07-25T14:58:23.068569Z",
     "shell.execute_reply": "2024-07-25T14:58:23.067694Z",
     "shell.execute_reply.started": "2024-07-25T14:58:23.050387Z"
    }
   },
   "outputs": [
    {
     "data": {
      "text/plain": [
       "[('ENSMUSG00000052613.16', 28),\n",
       " ('ENSMUSG00000034101.14', 24),\n",
       " ('ENSMUSG00000053477.17', 24),\n",
       " ('ENSMUSG00000051331.16', 23),\n",
       " ('ENSMUSG00000063889.16', 23),\n",
       " ('ENSMUSG00000074813.14', 22),\n",
       " ('ENSMUSG00000069601.14', 22),\n",
       " ('ENSMUSG00000061723.18', 21),\n",
       " ('ENSMUSG00000062991.9', 21),\n",
       " ('ENSMUSG00000097451.11', 21)]"
      ]
     },
     "execution_count": 17,
     "metadata": {},
     "output_type": "execute_result"
    }
   ],
   "source": [
    "transcript_counts.most_common()[:10]"
   ]
  },
  {
   "cell_type": "code",
   "execution_count": 18,
   "id": "cdf01d59-4ddf-44fd-8ef0-332cb58c2adc",
   "metadata": {
    "execution": {
     "iopub.execute_input": "2024-07-25T14:58:23.069496Z",
     "iopub.status.busy": "2024-07-25T14:58:23.069310Z",
     "iopub.status.idle": "2024-07-25T14:58:23.123337Z",
     "shell.execute_reply": "2024-07-25T14:58:23.122355Z",
     "shell.execute_reply.started": "2024-07-25T14:58:23.069478Z"
    }
   },
   "outputs": [],
   "source": [
    "n_most = transcript_counts.most_common()[0][1]"
   ]
  },
  {
   "cell_type": "code",
   "execution_count": 19,
   "id": "bb61971e-15d0-4a84-980e-d8bc5813f729",
   "metadata": {
    "execution": {
     "iopub.execute_input": "2024-07-25T14:58:23.124290Z",
     "iopub.status.busy": "2024-07-25T14:58:23.124098Z",
     "iopub.status.idle": "2024-07-25T14:58:23.180604Z",
     "shell.execute_reply": "2024-07-25T14:58:23.179379Z",
     "shell.execute_reply.started": "2024-07-25T14:58:23.124272Z"
    }
   },
   "outputs": [
    {
     "name": "stdout",
     "output_type": "stream",
     "text": [
      "A gene could have at most 28 transcripts\n"
     ]
    }
   ],
   "source": [
    "print(\"A gene could have at most {} transcripts\".format(n_most))"
   ]
  },
  {
   "cell_type": "code",
   "execution_count": 20,
   "id": "95426289-639b-4181-bff9-546ce57bf4ec",
   "metadata": {
    "execution": {
     "iopub.execute_input": "2024-07-25T14:58:24.765242Z",
     "iopub.status.busy": "2024-07-25T14:58:24.765050Z",
     "iopub.status.idle": "2024-07-25T14:58:25.807773Z",
     "shell.execute_reply": "2024-07-25T14:58:25.806832Z",
     "shell.execute_reply.started": "2024-07-25T14:58:24.765225Z"
    }
   },
   "outputs": [
    {
     "data": {
      "text/html": [
       "<div>\n",
       "<style scoped>\n",
       "    .dataframe tbody tr th:only-of-type {\n",
       "        vertical-align: middle;\n",
       "    }\n",
       "\n",
       "    .dataframe tbody tr th {\n",
       "        vertical-align: top;\n",
       "    }\n",
       "\n",
       "    .dataframe thead th {\n",
       "        text-align: right;\n",
       "    }\n",
       "</style>\n",
       "<table border=\"1\" class=\"dataframe\">\n",
       "  <thead>\n",
       "    <tr style=\"text-align: right;\">\n",
       "      <th></th>\n",
       "      <th>chrom</th>\n",
       "      <th>start</th>\n",
       "      <th>end</th>\n",
       "      <th>rDHS</th>\n",
       "      <th>cCRE</th>\n",
       "      <th>cCRE_type</th>\n",
       "    </tr>\n",
       "  </thead>\n",
       "  <tbody>\n",
       "    <tr>\n",
       "      <th>0</th>\n",
       "      <td>chr1</td>\n",
       "      <td>3012681</td>\n",
       "      <td>3012836</td>\n",
       "      <td>EM10D1036230</td>\n",
       "      <td>EM10E0932225</td>\n",
       "      <td>CA-CTCF</td>\n",
       "    </tr>\n",
       "    <tr>\n",
       "      <th>1</th>\n",
       "      <td>chr1</td>\n",
       "      <td>3035821</td>\n",
       "      <td>3035995</td>\n",
       "      <td>EM10D1036232</td>\n",
       "      <td>EM10E1235196</td>\n",
       "      <td>CA</td>\n",
       "    </tr>\n",
       "    <tr>\n",
       "      <th>2</th>\n",
       "      <td>chr1</td>\n",
       "      <td>3059627</td>\n",
       "      <td>3059790</td>\n",
       "      <td>EM10D1036235</td>\n",
       "      <td>EM10E1235197</td>\n",
       "      <td>CA</td>\n",
       "    </tr>\n",
       "    <tr>\n",
       "      <th>3</th>\n",
       "      <td>chr1</td>\n",
       "      <td>3062547</td>\n",
       "      <td>3062749</td>\n",
       "      <td>EM10D1036236</td>\n",
       "      <td>EM10E1235198</td>\n",
       "      <td>CA</td>\n",
       "    </tr>\n",
       "    <tr>\n",
       "      <th>4</th>\n",
       "      <td>chr1</td>\n",
       "      <td>3062789</td>\n",
       "      <td>3063138</td>\n",
       "      <td>EM10D1036237</td>\n",
       "      <td>EM10E1235199</td>\n",
       "      <td>CA</td>\n",
       "    </tr>\n",
       "  </tbody>\n",
       "</table>\n",
       "</div>"
      ],
      "text/plain": [
       "  chrom    start      end          rDHS          cCRE cCRE_type\n",
       "0  chr1  3012681  3012836  EM10D1036230  EM10E0932225   CA-CTCF\n",
       "1  chr1  3035821  3035995  EM10D1036232  EM10E1235196        CA\n",
       "2  chr1  3059627  3059790  EM10D1036235  EM10E1235197        CA\n",
       "3  chr1  3062547  3062749  EM10D1036236  EM10E1235198        CA\n",
       "4  chr1  3062789  3063138  EM10D1036237  EM10E1235199        CA"
      ]
     },
     "execution_count": 20,
     "metadata": {},
     "output_type": "execute_result"
    }
   ],
   "source": [
    "cCREs = pd.read_csv(\"/data/projects/encode/Registry/V4/mm10/mm10-cCREs.bed\",\n",
    "                    sep=\"\\t\",\n",
    "                    header=None,\n",
    "                    names=[\"chrom\", \"start\", \"end\", \"rDHS\", \"cCRE\", \"cCRE_type\"])\n",
    "cCREs.head()"
   ]
  },
  {
   "cell_type": "code",
   "execution_count": 21,
   "id": "17e47aa9-7de1-4e65-baa2-77f9c95318ff",
   "metadata": {
    "execution": {
     "iopub.execute_input": "2024-07-25T14:58:27.016050Z",
     "iopub.status.busy": "2024-07-25T14:58:27.015856Z",
     "iopub.status.idle": "2024-07-25T14:58:27.341682Z",
     "shell.execute_reply": "2024-07-25T14:58:27.340511Z",
     "shell.execute_reply.started": "2024-07-25T14:58:27.016033Z"
    }
   },
   "outputs": [],
   "source": [
    "cCREs = cCREs.sort_values(['chrom', 'start'], ascending=[True, True]).reset_index(drop=True)\n",
    "transcripts_df = transcripts_df.sort_values(['chrom', 'start'], ascending=[True, True]).reset_index(drop=True)"
   ]
  },
  {
   "cell_type": "code",
   "execution_count": 22,
   "id": "089edb79-cceb-49c0-aa64-8583cc762b05",
   "metadata": {
    "execution": {
     "iopub.execute_input": "2024-07-25T14:58:29.436733Z",
     "iopub.status.busy": "2024-07-25T14:58:29.435924Z",
     "iopub.status.idle": "2024-07-25T14:58:29.449117Z",
     "shell.execute_reply": "2024-07-25T14:58:29.447579Z",
     "shell.execute_reply.started": "2024-07-25T14:58:29.436657Z"
    }
   },
   "outputs": [],
   "source": [
    "def get_n_closest(chrom):\n",
    "    test = bf.closest(cCREs[cCREs[\"chrom\"] == chrom], transcripts_df[transcripts_df[\"chrom\"] == chrom], suffixes=[\"_cCRE\",\"_transcript\"], k=3*n_most)\n",
    "    index = test.drop_duplicates(subset= [\"cCRE_cCRE\", \"gene_id_transcript\"]).groupby(\"cCRE_cCRE\").distance.nsmallest(3).index\n",
    "    index = [_[1] for _ in index]\n",
    "    return(test.iloc[index])"
   ]
  },
  {
   "cell_type": "code",
   "execution_count": 23,
   "id": "550f35bd-28ba-42bd-86cc-0838206170a4",
   "metadata": {
    "execution": {
     "iopub.execute_input": "2024-07-25T14:58:31.422194Z",
     "iopub.status.busy": "2024-07-25T14:58:31.421392Z",
     "iopub.status.idle": "2024-07-25T14:59:30.035332Z",
     "shell.execute_reply": "2024-07-25T14:59:30.032953Z",
     "shell.execute_reply.started": "2024-07-25T14:58:31.422120Z"
    }
   },
   "outputs": [
    {
     "name": "stderr",
     "output_type": "stream",
     "text": [
      "100%|███████████████████████████████████████████████████████████████████████████████████████████████████████████████████████████████████████████████████████████████| 21/21 [00:57<00:00,  2.76s/it]\n"
     ]
    }
   ],
   "source": [
    "def run_imap_multiprocessing(func, argument_list, num_processes):\n",
    "\n",
    "    pool = Pool(processes=num_processes)\n",
    "\n",
    "    result_list_tqdm = []\n",
    "    for result in tqdm.tqdm(pool.imap(func=func, iterable=argument_list), total=len(argument_list)):\n",
    "        result_list_tqdm.append(result)\n",
    "\n",
    "    return result_list_tqdm\n",
    "\n",
    "chroms = cCREs.chrom.unique().tolist()\n",
    "df = run_imap_multiprocessing(get_n_closest, chroms, len(chroms))"
   ]
  },
  {
   "cell_type": "code",
   "execution_count": 24,
   "id": "b313d81c-82b4-46e0-b009-c8ff615b8f8c",
   "metadata": {
    "execution": {
     "iopub.execute_input": "2024-07-25T14:59:30.675659Z",
     "iopub.status.busy": "2024-07-25T14:59:30.675466Z",
     "iopub.status.idle": "2024-07-25T14:59:32.674741Z",
     "shell.execute_reply": "2024-07-25T14:59:32.673546Z",
     "shell.execute_reply.started": "2024-07-25T14:59:30.675641Z"
    }
   },
   "outputs": [],
   "source": [
    "df = pd.concat(df).sort_values([\"chrom_cCRE\", \"start_cCRE\"], ascending=[True, True]).reset_index(drop=True)"
   ]
  },
  {
   "cell_type": "code",
   "execution_count": 25,
   "id": "4f9ed2a5-efc9-4310-8943-05dab776701e",
   "metadata": {
    "execution": {
     "iopub.execute_input": "2024-07-25T14:59:32.677063Z",
     "iopub.status.busy": "2024-07-25T14:59:32.676851Z",
     "iopub.status.idle": "2024-07-25T14:59:32.692007Z",
     "shell.execute_reply": "2024-07-25T14:59:32.691099Z",
     "shell.execute_reply.started": "2024-07-25T14:59:32.677044Z"
    }
   },
   "outputs": [
    {
     "data": {
      "text/html": [
       "<div>\n",
       "<style scoped>\n",
       "    .dataframe tbody tr th:only-of-type {\n",
       "        vertical-align: middle;\n",
       "    }\n",
       "\n",
       "    .dataframe tbody tr th {\n",
       "        vertical-align: top;\n",
       "    }\n",
       "\n",
       "    .dataframe thead th {\n",
       "        text-align: right;\n",
       "    }\n",
       "</style>\n",
       "<table border=\"1\" class=\"dataframe\">\n",
       "  <thead>\n",
       "    <tr style=\"text-align: right;\">\n",
       "      <th></th>\n",
       "      <th>chrom_cCRE</th>\n",
       "      <th>start_cCRE</th>\n",
       "      <th>end_cCRE</th>\n",
       "      <th>rDHS_cCRE</th>\n",
       "      <th>cCRE_cCRE</th>\n",
       "      <th>cCRE_type_cCRE</th>\n",
       "      <th>chrom_transcript</th>\n",
       "      <th>source_transcript</th>\n",
       "      <th>type_transcript</th>\n",
       "      <th>transcript_start_transcript</th>\n",
       "      <th>transcript_end_transcript</th>\n",
       "      <th>strand_transcript</th>\n",
       "      <th>data_transcript</th>\n",
       "      <th>gene_id_transcript</th>\n",
       "      <th>start_transcript</th>\n",
       "      <th>end_transcript</th>\n",
       "      <th>distance</th>\n",
       "    </tr>\n",
       "  </thead>\n",
       "  <tbody>\n",
       "    <tr>\n",
       "      <th>0</th>\n",
       "      <td>chr1</td>\n",
       "      <td>3012681</td>\n",
       "      <td>3012836</td>\n",
       "      <td>EM10D1036230</td>\n",
       "      <td>EM10E0932225</td>\n",
       "      <td>CA-CTCF</td>\n",
       "      <td>chr1</td>\n",
       "      <td>HAVANA</td>\n",
       "      <td>transcript</td>\n",
       "      <td>3073253</td>\n",
       "      <td>3074322</td>\n",
       "      <td>+</td>\n",
       "      <td>gene_id \"ENSMUSG00000102693.1\"; transcript_id ...</td>\n",
       "      <td>ENSMUSG00000102693.1</td>\n",
       "      <td>3073253</td>\n",
       "      <td>3073253</td>\n",
       "      <td>60417</td>\n",
       "    </tr>\n",
       "    <tr>\n",
       "      <th>1</th>\n",
       "      <td>chr1</td>\n",
       "      <td>3012681</td>\n",
       "      <td>3012836</td>\n",
       "      <td>EM10D1036230</td>\n",
       "      <td>EM10E0932225</td>\n",
       "      <td>CA-CTCF</td>\n",
       "      <td>chr1</td>\n",
       "      <td>ENSEMBL</td>\n",
       "      <td>transcript</td>\n",
       "      <td>3102016</td>\n",
       "      <td>3102125</td>\n",
       "      <td>+</td>\n",
       "      <td>gene_id \"ENSMUSG00000064842.1\"; transcript_id ...</td>\n",
       "      <td>ENSMUSG00000064842.1</td>\n",
       "      <td>3102016</td>\n",
       "      <td>3102016</td>\n",
       "      <td>89180</td>\n",
       "    </tr>\n",
       "    <tr>\n",
       "      <th>2</th>\n",
       "      <td>chr1</td>\n",
       "      <td>3012681</td>\n",
       "      <td>3012836</td>\n",
       "      <td>EM10D1036230</td>\n",
       "      <td>EM10E0932225</td>\n",
       "      <td>CA-CTCF</td>\n",
       "      <td>chr1</td>\n",
       "      <td>HAVANA</td>\n",
       "      <td>transcript</td>\n",
       "      <td>3252757</td>\n",
       "      <td>3253236</td>\n",
       "      <td>+</td>\n",
       "      <td>gene_id \"ENSMUSG00000102851.1\"; transcript_id ...</td>\n",
       "      <td>ENSMUSG00000102851.1</td>\n",
       "      <td>3252757</td>\n",
       "      <td>3252757</td>\n",
       "      <td>239921</td>\n",
       "    </tr>\n",
       "    <tr>\n",
       "      <th>3</th>\n",
       "      <td>chr1</td>\n",
       "      <td>3035821</td>\n",
       "      <td>3035995</td>\n",
       "      <td>EM10D1036232</td>\n",
       "      <td>EM10E1235196</td>\n",
       "      <td>CA</td>\n",
       "      <td>chr1</td>\n",
       "      <td>HAVANA</td>\n",
       "      <td>transcript</td>\n",
       "      <td>3073253</td>\n",
       "      <td>3074322</td>\n",
       "      <td>+</td>\n",
       "      <td>gene_id \"ENSMUSG00000102693.1\"; transcript_id ...</td>\n",
       "      <td>ENSMUSG00000102693.1</td>\n",
       "      <td>3073253</td>\n",
       "      <td>3073253</td>\n",
       "      <td>37258</td>\n",
       "    </tr>\n",
       "    <tr>\n",
       "      <th>4</th>\n",
       "      <td>chr1</td>\n",
       "      <td>3035821</td>\n",
       "      <td>3035995</td>\n",
       "      <td>EM10D1036232</td>\n",
       "      <td>EM10E1235196</td>\n",
       "      <td>CA</td>\n",
       "      <td>chr1</td>\n",
       "      <td>ENSEMBL</td>\n",
       "      <td>transcript</td>\n",
       "      <td>3102016</td>\n",
       "      <td>3102125</td>\n",
       "      <td>+</td>\n",
       "      <td>gene_id \"ENSMUSG00000064842.1\"; transcript_id ...</td>\n",
       "      <td>ENSMUSG00000064842.1</td>\n",
       "      <td>3102016</td>\n",
       "      <td>3102016</td>\n",
       "      <td>66021</td>\n",
       "    </tr>\n",
       "  </tbody>\n",
       "</table>\n",
       "</div>"
      ],
      "text/plain": [
       "  chrom_cCRE  start_cCRE  end_cCRE     rDHS_cCRE     cCRE_cCRE cCRE_type_cCRE  \\\n",
       "0       chr1     3012681   3012836  EM10D1036230  EM10E0932225        CA-CTCF   \n",
       "1       chr1     3012681   3012836  EM10D1036230  EM10E0932225        CA-CTCF   \n",
       "2       chr1     3012681   3012836  EM10D1036230  EM10E0932225        CA-CTCF   \n",
       "3       chr1     3035821   3035995  EM10D1036232  EM10E1235196             CA   \n",
       "4       chr1     3035821   3035995  EM10D1036232  EM10E1235196             CA   \n",
       "\n",
       "  chrom_transcript source_transcript type_transcript  \\\n",
       "0             chr1            HAVANA      transcript   \n",
       "1             chr1           ENSEMBL      transcript   \n",
       "2             chr1            HAVANA      transcript   \n",
       "3             chr1            HAVANA      transcript   \n",
       "4             chr1           ENSEMBL      transcript   \n",
       "\n",
       "   transcript_start_transcript  transcript_end_transcript strand_transcript  \\\n",
       "0                      3073253                    3074322                 +   \n",
       "1                      3102016                    3102125                 +   \n",
       "2                      3252757                    3253236                 +   \n",
       "3                      3073253                    3074322                 +   \n",
       "4                      3102016                    3102125                 +   \n",
       "\n",
       "                                     data_transcript    gene_id_transcript  \\\n",
       "0  gene_id \"ENSMUSG00000102693.1\"; transcript_id ...  ENSMUSG00000102693.1   \n",
       "1  gene_id \"ENSMUSG00000064842.1\"; transcript_id ...  ENSMUSG00000064842.1   \n",
       "2  gene_id \"ENSMUSG00000102851.1\"; transcript_id ...  ENSMUSG00000102851.1   \n",
       "3  gene_id \"ENSMUSG00000102693.1\"; transcript_id ...  ENSMUSG00000102693.1   \n",
       "4  gene_id \"ENSMUSG00000064842.1\"; transcript_id ...  ENSMUSG00000064842.1   \n",
       "\n",
       "   start_transcript  end_transcript  distance  \n",
       "0           3073253         3073253     60417  \n",
       "1           3102016         3102016     89180  \n",
       "2           3252757         3252757    239921  \n",
       "3           3073253         3073253     37258  \n",
       "4           3102016         3102016     66021  "
      ]
     },
     "execution_count": 25,
     "metadata": {},
     "output_type": "execute_result"
    }
   ],
   "source": [
    "df.head()"
   ]
  },
  {
   "cell_type": "code",
   "execution_count": 26,
   "id": "70895d84-f196-4795-a4d1-d6fcada1ade1",
   "metadata": {
    "execution": {
     "iopub.execute_input": "2024-07-25T14:59:32.692923Z",
     "iopub.status.busy": "2024-07-25T14:59:32.692754Z",
     "iopub.status.idle": "2024-07-25T14:59:32.754660Z",
     "shell.execute_reply": "2024-07-25T14:59:32.753714Z",
     "shell.execute_reply.started": "2024-07-25T14:59:32.692907Z"
    }
   },
   "outputs": [],
   "source": [
    "gene_names = {_ : gene_metadata[_][\"gene_name\"] for _ in gene_metadata}"
   ]
  },
  {
   "cell_type": "code",
   "execution_count": 27,
   "id": "7e20132e-fe63-43e4-a060-f3a25bcdf873",
   "metadata": {
    "execution": {
     "iopub.execute_input": "2024-07-25T14:59:32.755498Z",
     "iopub.status.busy": "2024-07-25T14:59:32.755328Z",
     "iopub.status.idle": "2024-07-25T14:59:32.973298Z",
     "shell.execute_reply": "2024-07-25T14:59:32.971474Z",
     "shell.execute_reply.started": "2024-07-25T14:59:32.755481Z"
    }
   },
   "outputs": [],
   "source": [
    "df[\"gene_name\"] = df[\"gene_id_transcript\"].map(gene_names)"
   ]
  },
  {
   "cell_type": "code",
   "execution_count": 28,
   "id": "5263f9cb-4e49-4c1f-a70b-8907f4b07bb8",
   "metadata": {
    "execution": {
     "iopub.execute_input": "2024-07-25T14:59:32.974617Z",
     "iopub.status.busy": "2024-07-25T14:59:32.974426Z",
     "iopub.status.idle": "2024-07-25T14:59:33.138170Z",
     "shell.execute_reply": "2024-07-25T14:59:33.137246Z",
     "shell.execute_reply.started": "2024-07-25T14:59:32.974599Z"
    }
   },
   "outputs": [
    {
     "data": {
      "text/html": [
       "<div>\n",
       "<style scoped>\n",
       "    .dataframe tbody tr th:only-of-type {\n",
       "        vertical-align: middle;\n",
       "    }\n",
       "\n",
       "    .dataframe tbody tr th {\n",
       "        vertical-align: top;\n",
       "    }\n",
       "\n",
       "    .dataframe thead th {\n",
       "        text-align: right;\n",
       "    }\n",
       "</style>\n",
       "<table border=\"1\" class=\"dataframe\">\n",
       "  <thead>\n",
       "    <tr style=\"text-align: right;\">\n",
       "      <th></th>\n",
       "      <th>chrom_cCRE</th>\n",
       "      <th>start_cCRE</th>\n",
       "      <th>end_cCRE</th>\n",
       "      <th>cCRE_cCRE</th>\n",
       "      <th>rDHS_cCRE</th>\n",
       "      <th>cCRE_type_cCRE</th>\n",
       "      <th>gene_id_transcript</th>\n",
       "      <th>gene_name</th>\n",
       "      <th>start_transcript</th>\n",
       "      <th>end_transcript</th>\n",
       "      <th>distance</th>\n",
       "    </tr>\n",
       "  </thead>\n",
       "  <tbody>\n",
       "    <tr>\n",
       "      <th>0</th>\n",
       "      <td>chr1</td>\n",
       "      <td>3012681</td>\n",
       "      <td>3012836</td>\n",
       "      <td>EM10E0932225</td>\n",
       "      <td>EM10D1036230</td>\n",
       "      <td>CA-CTCF</td>\n",
       "      <td>ENSMUSG00000102693.1</td>\n",
       "      <td>4933401J01Rik</td>\n",
       "      <td>3073253</td>\n",
       "      <td>3073253</td>\n",
       "      <td>60417</td>\n",
       "    </tr>\n",
       "    <tr>\n",
       "      <th>1</th>\n",
       "      <td>chr1</td>\n",
       "      <td>3012681</td>\n",
       "      <td>3012836</td>\n",
       "      <td>EM10E0932225</td>\n",
       "      <td>EM10D1036230</td>\n",
       "      <td>CA-CTCF</td>\n",
       "      <td>ENSMUSG00000064842.1</td>\n",
       "      <td>Gm26206</td>\n",
       "      <td>3102016</td>\n",
       "      <td>3102016</td>\n",
       "      <td>89180</td>\n",
       "    </tr>\n",
       "    <tr>\n",
       "      <th>2</th>\n",
       "      <td>chr1</td>\n",
       "      <td>3012681</td>\n",
       "      <td>3012836</td>\n",
       "      <td>EM10E0932225</td>\n",
       "      <td>EM10D1036230</td>\n",
       "      <td>CA-CTCF</td>\n",
       "      <td>ENSMUSG00000102851.1</td>\n",
       "      <td>Gm18956</td>\n",
       "      <td>3252757</td>\n",
       "      <td>3252757</td>\n",
       "      <td>239921</td>\n",
       "    </tr>\n",
       "    <tr>\n",
       "      <th>3</th>\n",
       "      <td>chr1</td>\n",
       "      <td>3035821</td>\n",
       "      <td>3035995</td>\n",
       "      <td>EM10E1235196</td>\n",
       "      <td>EM10D1036232</td>\n",
       "      <td>CA</td>\n",
       "      <td>ENSMUSG00000102693.1</td>\n",
       "      <td>4933401J01Rik</td>\n",
       "      <td>3073253</td>\n",
       "      <td>3073253</td>\n",
       "      <td>37258</td>\n",
       "    </tr>\n",
       "    <tr>\n",
       "      <th>4</th>\n",
       "      <td>chr1</td>\n",
       "      <td>3035821</td>\n",
       "      <td>3035995</td>\n",
       "      <td>EM10E1235196</td>\n",
       "      <td>EM10D1036232</td>\n",
       "      <td>CA</td>\n",
       "      <td>ENSMUSG00000064842.1</td>\n",
       "      <td>Gm26206</td>\n",
       "      <td>3102016</td>\n",
       "      <td>3102016</td>\n",
       "      <td>66021</td>\n",
       "    </tr>\n",
       "  </tbody>\n",
       "</table>\n",
       "</div>"
      ],
      "text/plain": [
       "  chrom_cCRE  start_cCRE  end_cCRE     cCRE_cCRE     rDHS_cCRE cCRE_type_cCRE  \\\n",
       "0       chr1     3012681   3012836  EM10E0932225  EM10D1036230        CA-CTCF   \n",
       "1       chr1     3012681   3012836  EM10E0932225  EM10D1036230        CA-CTCF   \n",
       "2       chr1     3012681   3012836  EM10E0932225  EM10D1036230        CA-CTCF   \n",
       "3       chr1     3035821   3035995  EM10E1235196  EM10D1036232             CA   \n",
       "4       chr1     3035821   3035995  EM10E1235196  EM10D1036232             CA   \n",
       "\n",
       "     gene_id_transcript      gene_name  start_transcript  end_transcript  \\\n",
       "0  ENSMUSG00000102693.1  4933401J01Rik           3073253         3073253   \n",
       "1  ENSMUSG00000064842.1        Gm26206           3102016         3102016   \n",
       "2  ENSMUSG00000102851.1        Gm18956           3252757         3252757   \n",
       "3  ENSMUSG00000102693.1  4933401J01Rik           3073253         3073253   \n",
       "4  ENSMUSG00000064842.1        Gm26206           3102016         3102016   \n",
       "\n",
       "   distance  \n",
       "0     60417  \n",
       "1     89180  \n",
       "2    239921  \n",
       "3     37258  \n",
       "4     66021  "
      ]
     },
     "execution_count": 28,
     "metadata": {},
     "output_type": "execute_result"
    }
   ],
   "source": [
    "columns = [\"chrom_cCRE\", \"start_cCRE\", \"end_cCRE\", \"cCRE_cCRE\", \"rDHS_cCRE\", \"cCRE_type_cCRE\", \"gene_id_transcript\", \"gene_name\", \"start_transcript\", \"end_transcript\", \"distance\"]\n",
    "df[columns].head()"
   ]
  },
  {
   "cell_type": "code",
   "execution_count": 29,
   "id": "e092182f-3bed-40f5-8f8f-71acdd77cb60",
   "metadata": {
    "execution": {
     "iopub.execute_input": "2024-07-25T14:59:33.139332Z",
     "iopub.status.busy": "2024-07-25T14:59:33.139147Z",
     "iopub.status.idle": "2024-07-25T14:59:41.186581Z",
     "shell.execute_reply": "2024-07-25T14:59:41.185341Z",
     "shell.execute_reply.started": "2024-07-25T14:59:33.139314Z"
    }
   },
   "outputs": [],
   "source": [
    "df[columns].to_csv(\"mm10-cCREs-closest_genes.bed\", sep=\"\\t\", index=False, header=False)"
   ]
  },
  {
   "cell_type": "code",
   "execution_count": null,
   "id": "f842f7bd-6a3d-465e-ba6a-287a4bc280b8",
   "metadata": {},
   "outputs": [],
   "source": []
  }
 ],
 "metadata": {
  "kernelspec": {
   "display_name": "Python 3 (ipykernel)",
   "language": "python",
   "name": "python3"
  },
  "language_info": {
   "codemirror_mode": {
    "name": "ipython",
    "version": 3
   },
   "file_extension": ".py",
   "mimetype": "text/x-python",
   "name": "python",
   "nbconvert_exporter": "python",
   "pygments_lexer": "ipython3",
   "version": "3.10.12"
  }
 },
 "nbformat": 4,
 "nbformat_minor": 5
}
